{
 "cells": [
  {
   "cell_type": "code",
   "execution_count": 1,
   "metadata": {},
   "outputs": [],
   "source": [
    "from tkinter import *"
   ]
  },
  {
   "cell_type": "code",
   "execution_count": 10,
   "metadata": {},
   "outputs": [],
   "source": [
    "root = Tk()\n",
    "\n",
    "root.title(\"Обёртка\")\n",
    "root.geometry(\"800x500\")\n",
    "root.state(\"zoomed\")\n",
    "\n",
    "label1 = Label(root, text=\"what is it\",font=(\"Verdana\",35))\n",
    "label1.grid(row=0,column=0)\n",
    "\n",
    "label2 = Label(root, text=\"hello there\")\n",
    "label2.grid(row=1,column=0)\n",
    "\n",
    "frame1 = LabelFrame(root)\n",
    "frame1.grid(row=0,column=1,padx=30,pady=30,ipadx=60,ipady=60)\n",
    "\n",
    "labelf = Label(frame1, text=\"what\",font=(\"Verdana\",15))\n",
    "labelf.grid(row=0,column=0)\n",
    "def b1print(): print(\"this button works\")\n",
    "b1 = Button(root,text=\"Button\",command=b1print,font=(\"Verdana\",15),fg='blue',bg='pink',activebackground='red')\n",
    "b1.grid(row=2,column=0)\n",
    "\n",
    "\n",
    "en = Entry(root,width=20,font=(\"Verdana\",25),justify = 'center')\n",
    "en.grid(row=0,column=2)\n",
    "\n",
    "varCheck = StringVar()\n",
    "varCheck.set(\"On\")\n",
    "checkbox = Checkbutton(root,text=\"Switch\",onvalue='On',offvalue='Off',variable = varCheck)\n",
    "checkbox.grid(row=3,column=0)\n",
    "\n",
    "\n",
    "\n",
    "root.mainloop()"
   ]
  },
  {
   "cell_type": "code",
   "execution_count": null,
   "metadata": {},
   "outputs": [],
   "source": []
  },
  {
   "cell_type": "code",
   "execution_count": null,
   "metadata": {},
   "outputs": [],
   "source": []
  },
  {
   "cell_type": "code",
   "execution_count": null,
   "metadata": {},
   "outputs": [],
   "source": []
  }
 ],
 "metadata": {
  "kernelspec": {
   "display_name": "Python 3",
   "language": "python",
   "name": "python3"
  },
  "language_info": {
   "codemirror_mode": {
    "name": "ipython",
    "version": 3
   },
   "file_extension": ".py",
   "mimetype": "text/x-python",
   "name": "python",
   "nbconvert_exporter": "python",
   "pygments_lexer": "ipython3",
   "version": "3.8.3"
  }
 },
 "nbformat": 4,
 "nbformat_minor": 4
}
