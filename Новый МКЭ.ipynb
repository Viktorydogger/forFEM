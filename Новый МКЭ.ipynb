{
 "cells": [
  {
   "cell_type": "code",
   "execution_count": 2,
   "metadata": {},
   "outputs": [],
   "source": [
    "import collections as col\n",
    "import itertools as it\n",
    "import sympy as sp\n",
    "import numpy as np\n",
    "import matplotlib.pyplot as plt\n",
    "import math as ma\n"
   ]
  },
  {
   "cell_type": "code",
   "execution_count": null,
   "metadata": {},
   "outputs": [],
   "source": []
  },
  {
   "cell_type": "markdown",
   "metadata": {},
   "source": [
    "Функция для генерирования сетки "
   ]
  },
  {
   "cell_type": "code",
   "execution_count": 3,
   "metadata": {},
   "outputs": [],
   "source": [
    "def void_mesh(d1,d2,p,m,R,element_type):\n",
    "    q = np.array([[0,0],[d1,0],[0,d2],[d1,d2]])\n",
    "    PD = 2\n",
    "    NoN = (m+1)*(p+1)*2+(m+1)*(p-1)*2\n",
    "    NoE = 4*p*m\n",
    "    NPE = 4\n",
    "    NL = np.zeros([NoN,PD])\n",
    "    a = (q[1,0]-q[0,0])/p\n",
    "    b = (q[2,1]-q[0,1])/p\n",
    "    \n",
    "    coor11 = np.zeros([(p+1)*(m+1),PD])\n",
    "    \n",
    "    for i in range(1,p+2):\n",
    "        coor11[i-1,0] = q[0,0]+(i-1)*a\n",
    "        coor11[i-1,1] = q[0,1]\n",
    "    for i in range(1,p+2):\n",
    "        coor11[m*(p+1)+i-1,0] = d1/2 + R*np.cos((5*ma.pi/4)+(i-1)*ma.pi/(2*p))\n",
    "        coor11[m*(p+1)+i-1,1] = d2/2 + R*np.sin((5*ma.pi/4)+(i-1)*ma.pi/(2*p))\n",
    "    for i in range(1,m):\n",
    "        for j in range(1,p+2):\n",
    "            dx = (coor11[m*(p+1)+j-1,0]-coor11[j-1,0])/m\n",
    "            dy = (coor11[m*(p+1)+j-1,1]-coor11[j-1,1])/m\n",
    "            coor11[i*(p+1)+j-1,0] = coor11[(i-1)*(p+1)+j-1,0] + dx\n",
    "            coor11[i*(p+1)+j-1,1] = coor11[(i-1)*(p+1)+j-1,1] + dy\n",
    "    \n",
    "    coor22 =np.zeros([(p+1)*(m+1),PD])\n",
    "    for i in range(1,p+2):\n",
    "        coor22[i-1,0] = q[2,0]+(i-1)*a\n",
    "        coor22[i-1,1] = q[2,1]\n",
    "    for i in range(1,p+2):\n",
    "        coor22[m*(p+1)+i-1,0] = d1/2 + R*np.cos((3*ma.pi/4)-(i-1)*ma.pi/(p*2))\n",
    "        coor22[m*(p+1)+i-1,1] = d2/2 + R*np.sin((3*ma.pi/4)-(i-1)*ma.pi/(2*p))\n",
    "    for i in range(1,m):\n",
    "        for j in range(1,p+2):\n",
    "            dx = (coor22[m*(p+1)+j-1,0]-coor22[j-1,0])/m\n",
    "            dy = (coor22[m*(p+1)+j-1,1]-coor22[j-1,1])/m\n",
    "            coor22[i*(p+1)+j-1,0] = coor22[(i-1)*(p+1)+j-1,0] + dx\n",
    "            coor22[i*(p+1)+j-1,1] = coor22[(i-1)*(p+1)+j-1,1] + dy\n",
    "            \n",
    "    coor33 = np.zeros([(p-1)*(m+1),PD])\n",
    "    for i in range(1,p):\n",
    "        coor33[i-1,0] = q[0,0]\n",
    "        coor33[i-1,1] = q[0,1] + i*b\n",
    "    for i in range(1,p):\n",
    "        coor33[m*(p-1)+i-1,0] = d1/2 + R*np.cos((5*ma.pi/4)-(i)*ma.pi/(p*2))\n",
    "        coor33[m*(p-1)+i-1,1] = d2/2 + R*np.sin((5*ma.pi/4)-(i)*ma.pi/(p*2))\n",
    "    for i in range(1,m):\n",
    "        for j in range(1,p):\n",
    "            dx = (coor33[m*(p-1)+j-1,0]-coor33[j-1,0])/m\n",
    "            dy = (coor33[m*(p-1)+j-1,1]-coor33[j-1,1])/m\n",
    "            coor33[i*(p-1)+j-1,0] = coor33[(i-1)*(p-1)+j-1,0] + dx\n",
    "            coor33[i*(p-1)+j-1,1] = coor33[(i-1)*(p-1)+j-1,1] + dy\n",
    "     \n",
    "    coor44 = np.zeros([(p-1)*(m+1),PD])\n",
    "    for i in range(1,p):\n",
    "        coor44[i-1,0] = q[1,0]\n",
    "        coor44[i-1,1] = q[1,1] + i*b\n",
    "    for i in range(1,p):\n",
    "        coor44[m*(p-1)+i-1,0] = d1/2 + R*np.cos((7*ma.pi/4)+(i)*ma.pi/(p*2))\n",
    "        coor44[m*(p-1)+i-1,1] = d2/2 + R*np.sin((7*ma.pi/4)+(i)*ma.pi/(p*2))\n",
    "    for i in range(1,m):\n",
    "        for j in range(1,p):\n",
    "            dx = (coor44[m*(p-1)+j-1,0]-coor44[j-1,0])/m\n",
    "            dy = (coor44[m*(p-1)+j-1,1]-coor44[j-1,1])/m\n",
    "            coor44[i*(p-1)+j-1,0] = coor44[(i-1)*(p-1)+j-1,0] + dx\n",
    "            coor44[i*(p-1)+j-1,1] = coor44[(i-1)*(p-1)+j-1,1] + dy\n",
    "     \n",
    "    for i in range(1,m+2):\n",
    "        NL[(i-1)*4*p:i*4*p,:] = np.vstack([coor11[(i-1)*(p+1):i*(p+1),:],coor44[(i-1)*(p-1):i*(p-1),:],np.flipud(coor22[(i-1)*(p+1):i*(p+1),:]),np.flipud(coor33[(i-1)*(p-1):i*(p-1),:])])\n",
    "    \n",
    "\n",
    "    EL = np.zeros([NoE,NPE])\n",
    "    for i in range(1,m+1):\n",
    "        for j in range(1,4*p+1):\n",
    "            if j == 1:\n",
    "                EL[(i-1)*4*p+j-1,0] = (i-1)*4*p + j \n",
    "                EL[(i-1)*4*p+j-1,1] = EL[(i-1)*4*p+j-1,0] + 1\n",
    "                EL[(i-1)*4*p+j-1,3] = EL[(i-1)*4*p+j-1,0] + 4*p\n",
    "                EL[(i-1)*4*p+j-1,2] = EL[(i-1)*4*p+j-1,3] + 1\n",
    "            elif j == 4*p:\n",
    "                EL[(i-1)*4*p+j-1,0] = i*4*p\n",
    "                EL[(i-1)*4*p+j-1,1] = (i-1)*4*p + 1\n",
    "                EL[(i-1)*4*p+j-1,2] = EL[(i-1)*4*p+j-1,0] + 1\n",
    "                EL[(i-1)*4*p+j-1,3] = EL[(i-1)*4*p+j-1,0] + 4*p \n",
    "            else:\n",
    "                EL[(i-1)*4*p+j-1,0] = EL[(i-1)*4*p+j-2,1]\n",
    "                EL[(i-1)*4*p+j-1,3] = EL[(i-1)*4*p+j-2,2]\n",
    "                EL[(i-1)*4*p+j-1,2] = EL[(i-1)*4*p+j-1,3] + 1\n",
    "                EL[(i-1)*4*p+j-1,1] = EL[(i-1)*4*p+j-1,0] + 1\n",
    "    if element_type == 'D2TR3N':\n",
    "        NPEn = 3\n",
    "        NoEn = 2*NoE\n",
    "        ELn = np.zeros([NoEn,NPE])\n",
    "        for i in range(1,NoE+1):\n",
    "            ELn[2*(i-1),0] = EL[i-1,0] \n",
    "            ELn[2*(i-1),1] = EL[i-1,1] \n",
    "            ELn[2*(i-1),2] = EL[i-1,2] \n",
    "            ELn[2*(i-1)+1,0] = EL[i-1,0] \n",
    "            ELn[2*(i-1)+1,1] = EL[i-1,2] \n",
    "            ELn[2*(i-1)+1,2] = EL[i-1,3] \n",
    "        EL = ELn \n",
    "    EL = EL.astype(int)\n",
    "    return NL,EL"
   ]
  },
  {
   "cell_type": "markdown",
   "metadata": {},
   "source": [
    "Задаём параметры и константы"
   ]
  },
  {
   "cell_type": "code",
   "execution_count": 4,
   "metadata": {},
   "outputs": [],
   "source": [
    "d1 = 1\n",
    "d2 = 1\n",
    "p = 2\n",
    "p1 = 1\n",
    "m1 = 4\n",
    "m = 2\n",
    "R = 0.05\n",
    "mu = 0.3\n",
    "E = 2*10**11\n",
    "element_type = 'D2TR3N'\n"
   ]
  },
  {
   "cell_type": "markdown",
   "metadata": {},
   "source": [
    "Выводим глобальную сетку"
   ]
  },
  {
   "cell_type": "code",
   "execution_count": 5,
   "metadata": {},
   "outputs": [
    {
     "data": {
      "image/png": "[encoded data removed]",
      "text/plain": [
       "<Figure size 432x288 with 1 Axes>"
      ]
     },
     "metadata": {
      "needs_background": "light"
     },
     "output_type": "display_data"
    }
   ],
   "source": [
    "NL, EL = void_mesh(d1,d2,p,m,R,element_type)\n",
    "\n",
    "x0, y0 = NL[EL[:,0]-1,0], NL[EL[:,0]-1,1]\n",
    "x1, y1 = NL[EL[:,1]-1,0], NL[EL[:,1]-1,1]\n",
    "x2, y2 = NL[EL[:,2]-1,0], NL[EL[:,2]-1,1]\n",
    "plt.axis('equal')\n",
    "for i in range(len(NL)):\n",
    "    plt.annotate(i,xy = (NL[i,0],NL[i,1]))\n",
    "plt.xlim([-0.04, 1.04])\n",
    "plt.ylim([-0.04, 1.04])\n",
    "plt.plot(np.array([x0,x1]),np.array([y0,y1]),'red',linewidth=1);\n",
    "plt.plot(np.array([x1,x2]),np.array([y1,y2]),'red',linewidth=1);\n",
    "plt.plot(np.array([x2,x0]),np.array([y2,y0]),'red',linewidth=1);\n",
    "count2 = 0\n",
    "for j in range(0,len(EL)):\n",
    "        plt.annotate(count2,xy = ((NL[EL[j,0]-1,0]+NL[EL[j,1]-1,0]+NL[EL[j,2]-1,0])/3,(NL[EL[j,0]-1,1]+NL[int(EL[j,1])-1,1]+NL[int(EL[j,2])-1,1])/3),c = 'blue')\n",
    "        count2 += 1\n",
    "plt.grid()\n",
    "EL = np.delete(EL,3,1)\n",
    "EL = EL - np.ones((EL.shape[0],EL.shape[1]))\n",
    "EL = EL.astype(int)\n"
   ]
  },
  {
   "cell_type": "code",
   "execution_count": 6,
   "metadata": {},
   "outputs": [],
   "source": [
    "q = 1\n",
    "eff = np.zeros((len(NL),2))\n",
    "for i in range(len(NL)):\n",
    "    if NL[i,0] == 0:\n",
    "        if NL[i,1] == 0 or NL[i,1] == d1:\n",
    "            eff[i,0] = -d1*q/p/2\n",
    "        else: eff[i,0] = -d1*q/p\n",
    "    elif NL[i,0] == d2:\n",
    "        if NL[i,1] == 0 or NL[i,1] == d1:\n",
    "            eff[i,0] = d1*q/p/2\n",
    "        else: eff[i,0] = d1*q/p       \n"
   ]
  },
  {
   "cell_type": "code",
   "execution_count": 7,
   "metadata": {},
   "outputs": [],
   "source": [
    "\n",
    "D = E/(1 - mu*mu)*np.array([[1,mu,0],[mu,1,0],[0,0, (1-mu)/2]])"
   ]
  },
  {
   "cell_type": "code",
   "execution_count": 8,
   "metadata": {},
   "outputs": [],
   "source": [
    "def K_ok(A,lim):\n",
    "    for i in range(int(len(lim)/2)):\n",
    "        if lim[2*i] ==0 and lim[2*i+1] == 0:\n",
    "            A[2*i:2*i+1,:]=A[2*i:2*i+1,:]*0\n",
    "            A[:,2*i:2*i+1]=A[:,2*i:2*i+1]*0\n",
    "            A[2*i,2*i] = 1\n",
    "            A[2*i+1,2*i+1] = 1\n",
    "    return A"
   ]
  },
  {
   "cell_type": "code",
   "execution_count": 9,
   "metadata": {},
   "outputs": [],
   "source": [
    "#функция которой дают номера узлов, соответствующих элементу,\n",
    "# и матрицу с координатами, а она считает определитель*2\n",
    "def Det2(xi,yi,xj,yj,xk,yk):\n",
    "    return (xj*(yk - yi) + xi*(yj - yk) + xk*(yi - yj))"
   ]
  },
  {
   "cell_type": "code",
   "execution_count": 10,
   "metadata": {},
   "outputs": [],
   "source": [
    "def make_B(num,el_nod,Coord_nod,D):\n",
    "    x,y,z = sp.symbols('x, y, z')\n",
    "    ui,uj,uk = sp.var('ui uj uk')\n",
    "    vi,vj,vk = sp.var('vi vj vk')\n",
    "    wi,wj,wk = sp.var('wi wj wk')\n",
    "    n = el_nod[num,0]\n",
    "    m = el_nod[num,1]\n",
    "    t = el_nod[num,2]\n",
    "    # для конкретного элемента ищем координаты узлов\n",
    "    xi = Coord_nod[n,0]\n",
    "    yi = Coord_nod[n,1]\n",
    "    xj = Coord_nod[m,0]\n",
    "    yj = Coord_nod[m,1]\n",
    "    xk = Coord_nod[t,0]\n",
    "    yk = Coord_nod[t,1]\n",
    "    # пользуемся формулами со слайда 29\n",
    "    Det = Det2(xi,yi,xj,yj,xk,yk)\n",
    "    ai = (xj*yk - xk*yj)/Det\n",
    "    aj = (xk*yi - xi*yk)/Det\n",
    "    ak = (xi*yj - xj*yi)/Det\n",
    "    bi = (yj - yk)/Det\n",
    "    bj = (yk - yi)/Det\n",
    "    bk = (yi - yj)/Det\n",
    "    ci = (xk - xj)/Det\n",
    "    cj = (xi - xk)/Det\n",
    "    ck = (xj - xi)/Det\n",
    "    \n",
    "    # собираем матрицу B\n",
    "    Bi =[[bi, 0],[0, ci],[ci, bi]]\n",
    "    Bj =[[bj, 0],[0, cj],[cj, bj]] \n",
    "    Bk =[[bk, 0],[0, ck],[ck, bk]] \n",
    "    B0 = np.hstack([Bi, Bj, Bk])\n",
    "    \n",
    "    return B0"
   ]
  },
  {
   "cell_type": "code",
   "execution_count": 11,
   "metadata": {},
   "outputs": [],
   "source": [
    "def make_K(num,el_nod,Coord_nod,D):\n",
    "    Bi = make_B(num,el_nod,Coord_nod,D)\n",
    "    n = el_nod[num,0]\n",
    "    m = el_nod[num,1]\n",
    "    t = el_nod[num,2]\n",
    "    xi = Coord_nod[n,0]\n",
    "    yi = Coord_nod[n,1]\n",
    "    xj = Coord_nod[m,0]\n",
    "    yj = Coord_nod[m,1]\n",
    "    xk = Coord_nod[t,0]\n",
    "    yk = Coord_nod[t,1]\n",
    "    return (Det2(xi,yi,xj,yj,xk,yk)/2)*Bi.T.dot(D).dot(Bi)"
   ]
  },
  {
   "cell_type": "code",
   "execution_count": 12,
   "metadata": {},
   "outputs": [],
   "source": [
    "# глобальная K \n",
    "def sum_K(A,B,ind,num):\n",
    "    for i in range(len(ind)):\n",
    "        for j in range(len(ind)):\n",
    "            ii = ind[i]\n",
    "            jj = ind[j]\n",
    "            A[ii*2:ii*2+2,jj*2:jj*2+2] += B[i*2:i*2+2,j*2:j*2+2]\n",
    "    return A"
   ]
  },
  {
   "cell_type": "code",
   "execution_count": 13,
   "metadata": {},
   "outputs": [],
   "source": [
    "def right(eff,num_nod):\n",
    "    a = np.zeros(num_nod*2)\n",
    "    for i in range(len(eff)):\n",
    "            a[i*2] = eff[i,0]\n",
    "            a[i*2+1] = eff[i,1]\n",
    "            \n",
    "    return a"
   ]
  },
  {
   "cell_type": "code",
   "execution_count": 14,
   "metadata": {},
   "outputs": [],
   "source": [
    "def FEM(el_nod,Coord_nod,D,eff,Num_nod,Num_el):\n",
    "    rig = right(eff,Num_nod)\n",
    "    K0 = np.zeros((Num_nod*2,Num_nod*2))\n",
    "    for i in range(0,Num_el):\n",
    "        ind = el_nod[i,:]\n",
    "        \n",
    "        K0 = sum_K(K0,make_K(i,el_nod,Coord_nod,D),ind,i)\n",
    "    #K0 = K_ok(K0,rig)\n",
    "    \n",
    "    U = np.linalg.solve(K0,rig.T)\n",
    "    #U = Gauss(K0,np.array([rig]).T)\n",
    "    #достать перемещения можно где-то здесь\n",
    "    max_sig = 0\n",
    "    max_sig_i = -1\n",
    "    m_s=0\n",
    "    m_s_i=-1\n",
    "    lnap = np.matrix([-1,-1,-1])\n",
    "    for i in range(Num_el):\n",
    "        B = make_B(i,el_nod,Coord_nod,D)\n",
    "        Ui = np.zeros((6))\n",
    "        Ui[0] = U[el_nod[i,0]*2]\n",
    "        Ui[1] = U[el_nod[i,0]*2+1]\n",
    "        Ui[2] = U[el_nod[i,1]*2]\n",
    "        Ui[3] = U[el_nod[i,1]*2+1]  \n",
    "        Ui[4] = U[el_nod[i,2]*2]\n",
    "        Ui[5] = U[el_nod[i,2]*2+1] \n",
    "        #деформации (эпсилон)    \n",
    "        Eps = B.dot(Ui)\n",
    "        \n",
    "        # напряжения(сигма)\n",
    "        Nap = D.dot(Eps) \n",
    "        lnap = np.append(lnap,[[Nap[0],Nap[1],Nap[2]]],axis=0)\n",
    "        NapM = np.matrix([[Nap[0],Nap[2]],[Nap[2],Nap[1]]])\n",
    "        \n",
    "        Sig,s = np.linalg.eig(NapM) \n",
    "        \n",
    "        now_sig = ma.sqrt(Nap[0]**2-Nap[0]*Nap[1]+Nap[1]**2+3*Nap[2]**2)\n",
    "        #print(now_sig,el_nod[i,:],Ui)\n",
    "        if now_sig > max_sig:\n",
    "            max_sig = now_sig\n",
    "            max_sig_i = i\n",
    "       \n",
    "    print(\"sigmamax = \",max_sig)\n",
    "    a = Coord_nod[el_nod[max_sig_i,0],:]\n",
    "    b = Coord_nod[el_nod[max_sig_i,1],:]\n",
    "    c = Coord_nod[el_nod[max_sig_i,2],:]\n",
    "    print(\"Количество элементов \", len(el_nod))\n",
    "    for i in range(Num_nod):\n",
    "\n",
    "        plt.plot(Coord_nod[i,0],Coord_nod[i,1],'b.',linewidth=1)\n",
    "    plt.grid()\n",
    "    plt.xlabel('x')\n",
    "    plt.ylabel('y')\n",
    "    plt.plot(b[0],b[1],'r.')\n",
    "    plt.plot(a[0],a[1],'r.')\n",
    "    plt.plot(c[0],c[1],'r.')\n",
    "    \n",
    "    plt.axis('equal')\n",
    "    lnap = np.delete(lnap,0,axis = 0)\n",
    "  \n",
    "    return U\n"
   ]
  },
  {
   "cell_type": "code",
   "execution_count": 15,
   "metadata": {},
   "outputs": [
    {
     "name": "stdout",
     "output_type": "stream",
     "text": [
      "sigmamax =  1.2965046511363492\n",
      "Количество элементов  32\n"
     ]
    },
    {
     "data": {
      "image/png": "[encoded data removed]",
      "text/plain": [
       "<Figure size 432x288 with 1 Axes>"
      ]
     },
     "metadata": {
      "needs_background": "light"
     },
     "output_type": "display_data"
    }
   ],
   "source": [
    "finalU = FEM(EL,NL,D,eff,len(NL),len(EL))\n"
   ]
  },
  {
   "cell_type": "code",
   "execution_count": 16,
   "metadata": {},
   "outputs": [],
   "source": [
    "NL1, EL1 = void_mesh(d1,d2,p*p1,m*m1,R,element_type)\n",
    "#for i in range(len(NL1)):\n",
    " #    plt.annotate(i,xy = (NL1[i,0],NL1[i,1]))\n",
    "x01, y01 = NL1[EL1[:,0]-1,0], NL1[EL1[:,0]-1,1]\n",
    "x11, y11 = NL1[EL1[:,1]-1,0], NL1[EL1[:,1]-1,1]\n",
    "x21, y21 = NL1[EL1[:,2]-1,0], NL1[EL1[:,2]-1,1]\n",
    "#plt.axis('equal')\n",
    "#plt.plot(np.array([x01,x11]),np.array([y01,y11]),'red',linewidth=1);\n",
    "#plt.plot(np.array([x11,x21]),np.array([y11,y21]),'red',linewidth=1);\n",
    "#plt.plot(np.array([x21,x01]),np.array([y21,y01]),'red',linewidth=1);\n",
    "#plt.grid()\n",
    "EL1 = np.delete(EL1,3,1)\n",
    "EL1 = EL1 - np.ones((EL1.shape[0],EL1.shape[1]))\n",
    "EL1 = EL1.astype(int)"
   ]
  },
  {
   "cell_type": "code",
   "execution_count": 17,
   "metadata": {},
   "outputs": [],
   "source": [
    "U = np.zeros((len(NL1)*2,1))\n",
    "ss = set()\n",
    "ss1 = set()\n",
    "for i in range(len(NL1)):\n",
    "    for j in range(len(NL)-p*8,len(NL)-4*p):\n",
    "        if abs(NL1[i,0] - NL[j,0])<1/p/1000 and abs(NL1[i,1] - NL[j,1])<1/p/1000:\n",
    "            U[i*2] = finalU[j*2]\n",
    "            U[i*2+1] = finalU[j*2+1]\n",
    "            ss.add(j)\n",
    "            ss1.add(i)\n",
    "            if j == len(NL)-p*8:\n",
    "                ikont1 = i\n",
    "                ikont2 = j\n",
    "if p1 !=1:\n",
    "    for i in ss1:\n",
    "        if i+1 == ikont1+p*p1*4-1:\n",
    "            NL1[i+1,0] = (NL1[i,0]+NL1[ikont1,0])/2\n",
    "            NL1[i+1,1] = (NL1[i,1]+NL1[ikont1,1])/2\n",
    "        else:\n",
    "            NL1[i+1,0] = (NL1[i,0]+NL1[i+2,0])/2\n",
    "            NL1[i+1,1] = (NL1[i,1]+NL1[i+2,1])/2\n",
    "#перезаписываем новую сетку\n",
    "NLfinal = NL1[ikont1:,:]\n",
    "for i in range(len(EL1)):\n",
    "    EL1[i,0] =EL1[i,0]-ikont1+1\n",
    "    EL1[i,1] = EL1[i,1]-ikont1+1\n",
    "    EL1[i,2] = EL1[i,2]-ikont1+1\n",
    "ELfinal = np.zeros((1,3))\n",
    "U = U[ikont1*2:]\n",
    "for i in range(len(EL1)):\n",
    "    if EL1[i,0] > 0 and EL1[i,1] > 0 and EL1[i,2] > 0:\n",
    "        ELfinal = np.append(ELfinal,[EL1[i,:]],axis = 0)\n",
    "ELfinal = np.delete(ELfinal,0,axis=0)\n",
    "#for i in range(len(NLfinal)):\n",
    " #   plt.plot(NLfinal[i,0],NLfinal[i,1],'b.')\n",
    "ELfinal = ELfinal.astype(int)"
   ]
  },
  {
   "cell_type": "code",
   "execution_count": 18,
   "metadata": {},
   "outputs": [],
   "source": [
    "#for i in range(len(NL)-p*4):\n",
    " #   if abs(NLfinal[0,0] - NL[i,0])<1/p/100000 and abs(NLfinal[0,1] - NL[i,1])<1/p/100000:\n",
    "  #      ikont = i"
   ]
  },
  {
   "cell_type": "code",
   "execution_count": 19,
   "metadata": {},
   "outputs": [
    {
     "name": "stdout",
     "output_type": "stream",
     "text": [
      "64\n"
     ]
    },
    {
     "data": {
      "image/png": "[encoded data removed]",
      "text/plain": [
       "<Figure size 432x288 with 1 Axes>"
      ]
     },
     "metadata": {
      "needs_background": "light"
     },
     "output_type": "display_data"
    }
   ],
   "source": [
    "x01, y01 = NLfinal[ELfinal[:,0]-1,0], NLfinal[ELfinal[:,0]-1,1]\n",
    "x11, y11 = NLfinal[ELfinal[:,1]-1,0], NLfinal[ELfinal[:,1]-1,1]\n",
    "x21, y21 = NLfinal[ELfinal[:,2]-1,0], NLfinal[ELfinal[:,2]-1,1]\n",
    "#for i in range(len(NLfinal)):\n",
    "    # plt.annotate(i,xy = (NLfinal[i,0],NLfinal[i,1]))\n",
    "plt.axis('equal')\n",
    "plt.plot(np.array([x01,x11]),np.array([y01,y11]),'red',linewidth=1);\n",
    "plt.plot(np.array([x11,x21]),np.array([y11,y21]),'red',linewidth=1);\n",
    "plt.plot(np.array([x21,x01]),np.array([y21,y01]),'red',linewidth=1);\n",
    "print(len(ELfinal))"
   ]
  },
  {
   "cell_type": "code",
   "execution_count": 20,
   "metadata": {},
   "outputs": [],
   "source": [
    "ELfinal = ELfinal - np.ones((ELfinal.shape[0],ELfinal.shape[1]))\n",
    "ELfinal = ELfinal.astype(int)\n",
    "ln = len(NLfinal)\n",
    "le = len(ELfinal)\n",
    "K0 = np.zeros((ln*2,ln*2))\n",
    "for i in range(0,le):\n",
    "    ind = ELfinal[i,:]\n",
    "    K0 = sum_K(K0,make_K(i,ELfinal,NLfinal,D),ind,i)\n"
   ]
  },
  {
   "cell_type": "code",
   "execution_count": 21,
   "metadata": {},
   "outputs": [],
   "source": [
    "rig = np.zeros((1,ln*2)) #нулевой вектор правой части\n",
    "rig1 = K0.dot(U) #вектор правой части после умножения на вектор известных премещений\n",
    "for i in range(2*ln): #учёт нулей\n",
    "    if abs(U[i])>0:\n",
    "        K0[i,:] = K0[i,:]*0\n",
    "        K0[:,i] = K0[:,i]*0\n",
    "        K0[i,i] = 1\n",
    "        rig1[i] = 0\n",
    "Ufin = np.linalg.solve(K0,-rig1)\n",
    "#for i in range(len(U)):\n",
    " #   print(U[i],Ufin[i])\n",
    "Ufin = Ufin+U"
   ]
  },
  {
   "cell_type": "code",
   "execution_count": null,
   "metadata": {},
   "outputs": [],
   "source": []
  },
  {
   "cell_type": "code",
   "execution_count": 22,
   "metadata": {},
   "outputs": [],
   "source": [
    "#for i in range(len(Ufin)):\n",
    " #   print(Ufin[i],finalU[ikont1*2+i])"
   ]
  },
  {
   "cell_type": "markdown",
   "metadata": {},
   "source": [
    "Тут надо склеить узлы и элементы двух решений. "
   ]
  },
  {
   "cell_type": "code",
   "execution_count": 23,
   "metadata": {},
   "outputs": [
    {
     "name": "stdout",
     "output_type": "stream",
     "text": [
      "[[-6.18634933e-12]\n",
      " [-1.98080752e-12]\n",
      " [-4.81178511e-12]\n",
      " [-1.33867481e-12]\n",
      " [-3.47150330e-12]\n",
      " [-7.75018739e-13]\n",
      " [-3.99946593e-12]\n",
      " [-1.15512695e-12]\n",
      " [-4.68128235e-12]\n",
      " [-1.58165689e-12]\n",
      " [-6.05584657e-12]\n",
      " [-2.22378960e-12]\n",
      " [-7.39612838e-12]\n",
      " [-2.78744567e-12]\n",
      " [-6.86816575e-12]\n",
      " [-2.40733746e-12]\n",
      " [-6.03230916e-12]\n",
      " [-1.93686074e-12]\n",
      " [-4.93752353e-12]\n",
      " [-1.42062366e-12]\n",
      " [-3.88463663e-12]\n",
      " [-9.92867302e-13]\n",
      " [-4.26743692e-12]\n",
      " [-1.28283767e-12]\n",
      " [-4.83532252e-12]\n",
      " [-1.62560367e-12]\n",
      " [-5.93010815e-12]\n",
      " [-2.14184075e-12]\n",
      " [-6.98299505e-12]\n",
      " [-2.56959711e-12]\n",
      " [-6.60019475e-12]\n",
      " [-2.27962673e-12]\n",
      " [-5.88170913e-12]\n",
      " [-1.89317181e-12]\n",
      " [-5.06236230e-12]\n",
      " [-1.50057676e-12]\n",
      " [-4.29298291e-12]\n",
      " [-1.21163212e-12]\n",
      " [-4.52728534e-12]\n",
      " [-1.41045703e-12]\n",
      " [-4.98592255e-12]\n",
      " [-1.66929260e-12]\n",
      " [-5.80526938e-12]\n",
      " [-2.06188765e-12]\n",
      " [-6.57464876e-12]\n",
      " [-2.35083229e-12]\n",
      " [-6.34034634e-12]\n",
      " [-2.15200738e-12]\n",
      " [-5.74126914e-12]\n",
      " [-1.85054158e-12]\n",
      " [-5.18435449e-12]\n",
      " [-1.57709459e-12]\n",
      " [-4.68754708e-12]\n",
      " [-1.43037131e-12]\n",
      " [-4.76756593e-12]\n",
      " [-1.54044418e-12]\n",
      " [-5.12636254e-12]\n",
      " [-1.71192283e-12]\n",
      " [-5.68327719e-12]\n",
      " [-1.98536982e-12]\n",
      " [-6.18008460e-12]\n",
      " [-2.13209309e-12]\n",
      " [-6.10006575e-12]\n",
      " [-2.02202023e-12]\n",
      " [-5.67276229e-12]\n",
      " [-1.81616435e-12]\n",
      " [-5.29275348e-12]\n",
      " [-1.66345564e-12]\n",
      " [-5.01528135e-12]\n",
      " [-1.61797978e-12]\n",
      " [-4.95238114e-12]\n",
      " [-1.67187573e-12]\n",
      " [-5.19486938e-12]\n",
      " [-1.74630006e-12]\n",
      " [-5.57487820e-12]\n",
      " [-1.89900877e-12]\n",
      " [-5.85235032e-12]\n",
      " [-1.94448463e-12]\n",
      " [-5.91525054e-12]\n",
      " [-1.89058868e-12]]\n"
     ]
    }
   ],
   "source": [
    "ss = set()\n",
    "ss1 = set()\n",
    "for i in range(len(NL)-p*8,len(NL)-4*p):\n",
    "    for j in range(ln):\n",
    "        if abs(NLfinal[j,0] - NL[i,0])<1/p/1000 and abs(NLfinal[j,1] - NL[i,1])<1/p/1000:\n",
    "            ss.add(j)\n",
    "            ss1.add(i)\n",
    "ss = list(ss)\n",
    "ss1 = list(ss1)\n",
    "if p1 == 1: \n",
    "    ss2 = list(range(0,(max(ss)+1)*2))\n",
    "else:\n",
    "    ss2 = ss+list(np.array(ss)+1)\n",
    "ss2.sort()\n",
    "print(Ufin)\n",
    "Ufin = np.delete(Ufin,ss2,axis=0)\n",
    "NLfinal = np.delete(NLfinal,ss,axis=0)"
   ]
  },
  {
   "cell_type": "code",
   "execution_count": 24,
   "metadata": {},
   "outputs": [
    {
     "data": {
      "text/plain": [
       "array([[-6.03230916e-12],\n",
       "       [-1.93686074e-12],\n",
       "       [-4.93752353e-12],\n",
       "       [-1.42062366e-12],\n",
       "       [-3.88463663e-12],\n",
       "       [-9.92867302e-13],\n",
       "       [-4.26743692e-12],\n",
       "       [-1.28283767e-12],\n",
       "       [-4.83532252e-12],\n",
       "       [-1.62560367e-12],\n",
       "       [-5.93010815e-12],\n",
       "       [-2.14184075e-12],\n",
       "       [-6.98299505e-12],\n",
       "       [-2.56959711e-12],\n",
       "       [-6.60019475e-12],\n",
       "       [-2.27962673e-12],\n",
       "       [-5.88170913e-12],\n",
       "       [-1.89317181e-12],\n",
       "       [-5.06236230e-12],\n",
       "       [-1.50057676e-12],\n",
       "       [-4.29298291e-12],\n",
       "       [-1.21163212e-12],\n",
       "       [-4.52728534e-12],\n",
       "       [-1.41045703e-12],\n",
       "       [-4.98592255e-12],\n",
       "       [-1.66929260e-12],\n",
       "       [-5.80526938e-12],\n",
       "       [-2.06188765e-12],\n",
       "       [-6.57464876e-12],\n",
       "       [-2.35083229e-12],\n",
       "       [-6.34034634e-12],\n",
       "       [-2.15200738e-12],\n",
       "       [-5.74126914e-12],\n",
       "       [-1.85054158e-12],\n",
       "       [-5.18435449e-12],\n",
       "       [-1.57709459e-12],\n",
       "       [-4.68754708e-12],\n",
       "       [-1.43037131e-12],\n",
       "       [-4.76756593e-12],\n",
       "       [-1.54044418e-12],\n",
       "       [-5.12636254e-12],\n",
       "       [-1.71192283e-12],\n",
       "       [-5.68327719e-12],\n",
       "       [-1.98536982e-12],\n",
       "       [-6.18008460e-12],\n",
       "       [-2.13209309e-12],\n",
       "       [-6.10006575e-12],\n",
       "       [-2.02202023e-12],\n",
       "       [-5.67276229e-12],\n",
       "       [-1.81616435e-12],\n",
       "       [-5.29275348e-12],\n",
       "       [-1.66345564e-12],\n",
       "       [-5.01528135e-12],\n",
       "       [-1.61797978e-12],\n",
       "       [-4.95238114e-12],\n",
       "       [-1.67187573e-12],\n",
       "       [-5.19486938e-12],\n",
       "       [-1.74630006e-12],\n",
       "       [-5.57487820e-12],\n",
       "       [-1.89900877e-12],\n",
       "       [-5.85235032e-12],\n",
       "       [-1.94448463e-12],\n",
       "       [-5.91525054e-12],\n",
       "       [-1.89058868e-12]])"
      ]
     },
     "execution_count": 24,
     "metadata": {},
     "output_type": "execute_result"
    }
   ],
   "source": [
    "Ufin"
   ]
  },
  {
   "cell_type": "code",
   "execution_count": 25,
   "metadata": {},
   "outputs": [],
   "source": [
    "for j in range(len(ELfinal)):\n",
    "    for k in range(3):      \n",
    "        kk = True \n",
    "        for i in range(len(ss)):\n",
    "            if ELfinal[j,k] == ss[i]:              \n",
    "                ELfinal[j,k] = ss1[i] \n",
    "                kk = False #узел дублировлся в сетках, ему присваивается номер из глобальной\n",
    "                break\n",
    "        if kk:\n",
    "            if ELfinal[j,k] < max(ss)+p1:#узел не дублируется, но лежит на границе \n",
    "                ELfinal[j,k] = ikont2 +p*4 + (p1-1)*ELfinal[j,k]//p1 +ELfinal[j,k]%p1-1\n",
    "            else: \n",
    "                ELfinal[j,k] = ikont2 + ELfinal[j,k] #узел внутри локальной области\n",
    "#надо переписать координаты узлов на границе\n",
    "NLans = np.vstack([NL[:-p*4], NLfinal])\n",
    "ELans = np.vstack([EL[:-p*8], ELfinal])\n",
    "Uans = np.vstack([np.array([finalU[:-p*8]]).T, Ufin]) #+1\n",
    "ELans = ELans + np.ones((ELans.shape[0],ELans.shape[1]))\n",
    "ELans = ELans.astype(int)\n",
    "         \n",
    "        "
   ]
  },
  {
   "cell_type": "code",
   "execution_count": 26,
   "metadata": {},
   "outputs": [
    {
     "name": "stdout",
     "output_type": "stream",
     "text": [
      "48 96\n"
     ]
    }
   ],
   "source": [
    "print(len(NLans),len(Uans))"
   ]
  },
  {
   "cell_type": "code",
   "execution_count": 27,
   "metadata": {},
   "outputs": [
    {
     "data": {
      "image/png": "[encoded data removed]",
      "text/plain": [
       "<Figure size 432x288 with 1 Axes>"
      ]
     },
     "metadata": {
      "needs_background": "light"
     },
     "output_type": "display_data"
    }
   ],
   "source": [
    "x01, y01 = NLans[ELans[:,0]-1,0], NLans[ELans[:,0]-1,1]\n",
    "x11, y11 = NLans[ELans[:,1]-1,0], NLans[ELans[:,1]-1,1]\n",
    "x21, y21 = NLans[ELans[:,2]-1,0], NLans[ELans[:,2]-1,1]\n",
    "plt.axis('equal')\n",
    "#for i in range(len(NLans)):\n",
    "     #plt.annotate(i,xy = (NLans[i,0],NLans[i,1]))\n",
    "#plt.xlim([0.7, 0.3])\n",
    "#plt.ylim([0.7, 0.3])\n",
    "plt.plot(np.array([x01,x11]),np.array([y01,y11]),'red',linewidth=1);\n",
    "plt.plot(np.array([x11,x21]),np.array([y11,y21]),'red',linewidth=1);\n",
    "plt.plot(np.array([x21,x01]),np.array([y21,y01]),'red',linewidth=1);\n",
    "plt.grid()\n",
    "ELans = ELans - np.ones((ELans.shape[0],ELans.shape[1]))\n",
    "ELans = ELans.astype(int)\n"
   ]
  },
  {
   "cell_type": "code",
   "execution_count": 28,
   "metadata": {},
   "outputs": [
    {
     "name": "stdout",
     "output_type": "stream",
     "text": [
      "sigmamax =  1.6947535955839645\n",
      "Количество элементов  80\n"
     ]
    },
    {
     "data": {
      "image/png": "[encoded data removed]",
      "text/plain": [
       "<Figure size 432x288 with 1 Axes>"
      ]
     },
     "metadata": {
      "needs_background": "light"
     },
     "output_type": "display_data"
    }
   ],
   "source": [
    "\n",
    "lnap = np.matrix([-1,-1,-1])\n",
    "max_sig = 0\n",
    "max_sig_i = -1\n",
    "m_s=0\n",
    "m_s_i=-1\n",
    "Num_el = len(ELans)\n",
    "for i in range(Num_el):\n",
    "    B = make_B(i,ELans,NLans,D)\n",
    "    Ui = np.zeros((6))\n",
    "    Ui[0] = Uans[ELans[i,0]*2]\n",
    "    Ui[1] = Uans[ELans[i,0]*2+1]\n",
    "    Ui[2] = Uans[ELans[i,1]*2]\n",
    "    Ui[3] = Uans[ELans[i,1]*2+1]  \n",
    "    Ui[4] = Uans[ELans[i,2]*2]\n",
    "    Ui[5] = Uans[ELans[i,2]*2+1] \n",
    "        #деформации (эпсилон)    \n",
    "    Eps = B.dot(Ui)\n",
    "        \n",
    "        # напряжения(сигма)\n",
    "    Nap = D.dot(Eps) \n",
    "    lnap = np.append(lnap,[[Nap[0],Nap[1],Nap[2]]],axis=0)\n",
    "    NapM = np.matrix([[Nap[0],Nap[2]],[Nap[2],Nap[1]]])\n",
    "        \n",
    "    Sig,s = np.linalg.eig(NapM)         \n",
    "    now_sig = ma.sqrt(Nap[0]**2-Nap[0]*Nap[1]+Nap[1]**2+3*Nap[2]**2)\n",
    "    #print(now_sig,ELans[i,:],Ui)\n",
    "    if now_sig > max_sig:\n",
    "        max_sig = now_sig\n",
    "        max_sig_i = i\n",
    "print(\"sigmamax = \",max_sig)\n",
    "a = NLans[ELans[max_sig_i,0],:]\n",
    "b = NLans[ELans[max_sig_i,1],:]\n",
    "c = NLans[ELans[max_sig_i,2],:]\n",
    "print(\"Количество элементов \", len(ELans))\n",
    "for i in range(len(NLans)):\n",
    "\n",
    "    plt.plot(NLans[i,0],NLans[i,1],'b.')\n",
    "plt.grid()\n",
    "plt.xlabel('x')\n",
    "plt.ylabel('y')\n",
    "plt.plot(b[0],b[1],'r.')\n",
    "plt.plot(a[0],a[1],'r.')\n",
    "plt.plot(c[0],c[1],'r.')\n",
    "plt.axis('equal')\n",
    "lnap = np.delete(lnap,0,axis = 0)"
   ]
  },
  {
   "cell_type": "code",
   "execution_count": 29,
   "metadata": {},
   "outputs": [
    {
     "ename": "SyntaxError",
     "evalue": "invalid syntax (<ipython-input-29-7e0c8058f398>, line 4)",
     "output_type": "error",
     "traceback": [
      "\u001b[1;36m  File \u001b[1;32m\"<ipython-input-29-7e0c8058f398>\"\u001b[1;36m, line \u001b[1;32m4\u001b[0m\n\u001b[1;33m    for i in range(np.size(NLans,0))\u001b[0m\n\u001b[1;37m                                    ^\u001b[0m\n\u001b[1;31mSyntaxError\u001b[0m\u001b[1;31m:\u001b[0m invalid syntax\n"
     ]
    }
   ],
   "source": [
    "scale = 100\n",
    "coor = []\n",
    "dispx_array = []\n",
    "for i in range(np.size(NLans,0)):\n",
    "    dipx = \n"
   ]
  },
  {
   "cell_type": "code",
   "execution_count": null,
   "metadata": {},
   "outputs": [],
   "source": [
    "_"
   ]
  }
 ],
 "metadata": {
  "kernelspec": {
   "display_name": "Python 3",
   "language": "python",
   "name": "python3"
  },
  "language_info": {
   "codemirror_mode": {
    "name": "ipython",
    "version": 3
   },
   "file_extension": ".py",
   "mimetype": "text/x-python",
   "name": "python",
   "nbconvert_exporter": "python",
   "pygments_lexer": "ipython3",
   "version": "3.8.3"
  }
 },
 "nbformat": 4,
 "nbformat_minor": 4
}
