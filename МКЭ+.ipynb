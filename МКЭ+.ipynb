{
 "cells": [
  {
   "cell_type": "code",
   "execution_count": 13,
   "metadata": {},
   "outputs": [],
   "source": [
    "import seaborn as sns\n",
    "import scipy.sparse as sparse\n",
    "import sympy as sp\n",
    "import numpy as np\n",
    "import matplotlib.pyplot as plt\n",
    "import math as m"
   ]
  },
  {
   "cell_type": "markdown",
   "metadata": {},
   "source": [
    "Ввод данных из файла"
   ]
  },
  {
   "cell_type": "code",
   "execution_count": 26,
   "metadata": {},
   "outputs": [],
   "source": [
    "def MyData():\n",
    "    # путь к файлу\n",
    "    f = open(\"newex1\", \"r\")\n",
    "    all_file = f.readlines()\n",
    "    # Юнг, Пуассон\n",
    "    mu = float(all_file[0].split(' ')[0]) \n",
    "    E = float(all_file[0].split(' ')[1])*10\n",
    "    # количество узлов\n",
    "    Num_nod = int(all_file[1])\n",
    "    #список узлов с координатами\n",
    "    Coord_nod = np.matrix([-1,-1])\n",
    "    for i in range(2,Num_nod + 2):\n",
    "        this_line = all_file[i].split(' ')\n",
    "        Coord_nod = np.append(Coord_nod,[[float(this_line[0]),float(this_line[1])]],axis = 0)\n",
    "    Coord_nod = np.delete(Coord_nod,0,axis = 0)\n",
    "    # количество конечных элементов\n",
    "    Num_el = int(all_file[Num_nod+2])\n",
    "    #список элементов с соответсвующими узлами\n",
    "    el_nod = np.matrix([-1,-1,-1])\n",
    "    for i in range(Num_nod+3,Num_nod+3+Num_el):\n",
    "        this_line = all_file[i].split(' ')\n",
    "        el_nod = np.append(el_nod,[[int(this_line[0]),int(this_line[1]),int(this_line[2])]],axis = 0)\n",
    "    el_nod = np.delete(el_nod,0,axis = 0)\n",
    "    # ограничения движения \n",
    "    lim_in_nod = int(all_file[Num_nod+3+Num_el])\n",
    "    lim = np.matrix([-1,-1])\n",
    "    for i in range(Num_nod+4+Num_el,Num_nod+4+Num_el+lim_in_nod):\n",
    "        this_line = all_file[i].split(' ')\n",
    "        lim = np.append(lim,[[float(this_line[0]),float(this_line[1])]],axis = 0)\n",
    "    lim = np.delete(lim,0,axis = 0)\n",
    "    # количество узлов, в которых приложены усилия\n",
    "    eff_in_nod = int(all_file[Num_nod+4+Num_el+lim_in_nod])\n",
    "    eff = np.matrix([-1,-1,-1])\n",
    "    for i in range(Num_nod+5+Num_el+lim_in_nod,Num_nod+5+Num_el+lim_in_nod+eff_in_nod):\n",
    "        this_line = all_file[i].split(' ')\n",
    "        eff = np.append(eff,[[float(this_line[0]),float(this_line[1]),float(this_line[2])]],axis = 0)\n",
    "    eff = np.delete(eff,0,axis = 0)\n",
    "\n",
    "    f.close()\n",
    "    \n",
    "    D = E/(1 - mu*mu)*np.array([[1,mu,0],[mu,1,0],[0,0, (1-mu)/2]])\n",
    "    #D = E*(1-mu)/((1+mu)*(1-2*mu))*np.array([[1,mu/(1-mu),0],[mu/(1-mu),1,0],[0,0,(1-2*mu)/(2*(1-mu))]])\n",
    "    \n",
    "    return el_nod,Coord_nod,D,eff,Num_nod,Num_el,lim,D\n"
   ]
  },
  {
   "cell_type": "code",
   "execution_count": 27,
   "metadata": {},
   "outputs": [],
   "source": [
    "# ищем матрицу D\n"
   ]
  },
  {
   "cell_type": "code",
   "execution_count": 28,
   "metadata": {},
   "outputs": [],
   "source": [
    "# умножение матрицы на матрицу\n",
    "def d(A,B):\n",
    "    ans = np.zeros((A.shape[0],B.shape[1]))\n",
    "    for i in range(A.shape[0]):\n",
    "        for j in range(B.shape[1]):\n",
    "            for k in range(B.shape[0]):\n",
    "                ans[i,j] += A[i,k] * B[k,j]\n",
    "    return ans"
   ]
  },
  {
   "cell_type": "code",
   "execution_count": 29,
   "metadata": {},
   "outputs": [],
   "source": [
    "# убираем сингулярность\n",
    "def K_ok(A,lim):\n",
    "    print(lim)\n",
    "    for i in range(len(lim)):\n",
    "        for j in range(len(A)):\n",
    "            if lim[i,0] == j:\n",
    "                if lim[i,1] == 1:\n",
    "                    ii = int(lim[i,0]*2)\n",
    "                    for k in range(len(A)):\n",
    "                        if j == k:\n",
    "                            A[ii,j] = 1\n",
    "                        else:\n",
    "                            A[ii,j] = 0\n",
    "                            A[j,ii] = 0\n",
    "                if lim[i,1] == 2:\n",
    "                    ii = int(lim[i,0]*2+1)\n",
    "                    for k in range(len(A)):\n",
    "                        if j == k:\n",
    "                            A[ii,j] = 1\n",
    "                        else:\n",
    "                            A[ii,j] = 0\n",
    "                            A[j,ii] = 0\n",
    "                if lim[i,1] == 3:\n",
    "                    ii1 = int(lim[i,0]*2)\n",
    "                    ii0 = int(lim[i,0]*2+1)\n",
    "                    \n",
    "                    for k in range(len(A)):\n",
    "                            A[ii1,k] = 0\n",
    "                            A[k,ii1] = 0\n",
    "                            A[ii0,k] = 0\n",
    "                            A[k,ii0] = 0\n",
    "                    A[ii1,ii1] = 1\n",
    "                    A[ii0,ii0] = 1\n",
    "    return A"
   ]
  },
  {
   "cell_type": "code",
   "execution_count": 30,
   "metadata": {},
   "outputs": [],
   "source": [
    "#функция которой дают номера узлов, соответствующих элементу,\n",
    "# и матрицу с координатами, а она считает определитель*2\n",
    "def Det2(xi,yi,xj,yj,xk,yk):\n",
    "    return (xj*(yk - yi) + xi*(yj - yk) + xk*(yi - yj))"
   ]
  },
  {
   "cell_type": "code",
   "execution_count": 31,
   "metadata": {},
   "outputs": [],
   "source": [
    "def make_B(num,el_nod,Coord_nod,D,eff,lim):\n",
    "    x,y,z = sp.symbols('x, y, z')\n",
    "    ui,uj,uk = sp.var('ui uj uk')\n",
    "    vi,vj,vk = sp.var('vi vj vk')\n",
    "    wi,wj,wk = sp.var('wi wj wk')\n",
    "    n = el_nod[num,0]\n",
    "    m = el_nod[num,1]\n",
    "    t = el_nod[num,2]\n",
    "    # для конкретного элемента ищем координаты узлов\n",
    "    xi = Coord_nod[n,0]\n",
    "    yi = Coord_nod[n,1]\n",
    "    xj = Coord_nod[m,0]\n",
    "    yj = Coord_nod[m,1]\n",
    "    xk = Coord_nod[t,0]\n",
    "    yk = Coord_nod[t,1]\n",
    "    # пользуемся формулами со слайда 29\n",
    "    Det = Det2(xi,yi,xj,yj,xk,yk)\n",
    "    ai = (xj*yk - xk*yj)/Det\n",
    "    aj = (xk*yi - xi*yk)/Det\n",
    "    ak = (xi*yj - xj*yi)/Det\n",
    "    bi = (yj - yk)/Det\n",
    "    bj = (yk - yi)/Det\n",
    "    bk = (yi - yj)/Det\n",
    "    ci = (xk - xj)/Det\n",
    "    cj = (xi - xk)/Det\n",
    "    ck = (xj - xi)/Det\n",
    "   \n",
    "    # собираем матрицу B\n",
    "    Bi =[[bi, 0],[0, ci],[ci, bi]]\n",
    "    Bj =[[bj, 0],[0, cj],[cj, bj]] \n",
    "    Bk =[[bk, 0],[0, ck],[ck, bk]] \n",
    "    B0 = np.hstack([Bi, Bj, Bk])\n",
    "    \n",
    "    return B0"
   ]
  },
  {
   "cell_type": "code",
   "execution_count": null,
   "metadata": {},
   "outputs": [],
   "source": []
  },
  {
   "cell_type": "code",
   "execution_count": 32,
   "metadata": {},
   "outputs": [],
   "source": [
    "def make_K(num,el_nod,Coord_nod,D,eff_final,lim):\n",
    "    Bi = make_B(num,el_nod,Coord_nod,D,eff_final,lim)\n",
    "    n = el_nod[num,0]\n",
    "    m = el_nod[num,1]\n",
    "    t = el_nod[num,2]\n",
    "    xi = Coord_nod[n,0]\n",
    "    yi = Coord_nod[n,1]\n",
    "    xj = Coord_nod[m,0]\n",
    "    yj = Coord_nod[m,1]\n",
    "    xk = Coord_nod[t,0]\n",
    "    yk = Coord_nod[t,1]\n",
    "\n",
    "    return (Det2(xi,yi,xj,yj,xk,yk)/2)*Bi.T.dot(D).dot(Bi)"
   ]
  },
  {
   "cell_type": "code",
   "execution_count": 33,
   "metadata": {},
   "outputs": [],
   "source": [
    "#make_K(0,el_nod,Coord_nod,D,eff) "
   ]
  },
  {
   "cell_type": "code",
   "execution_count": 34,
   "metadata": {},
   "outputs": [],
   "source": [
    "# глобальная K \n",
    "def sum_K(A,B,ind,num):\n",
    "    a = len(A)\n",
    "    b = len(B)\n",
    "    for i in range(ind.shape[1]):\n",
    "        for j in range(ind.shape[1]):\n",
    "            ii = ind[0,i]\n",
    "            jj = ind[0,j]\n",
    "            A[ii*2:ii*2+2,jj*2:jj*2+2] += B[i*2:i*2+2,j*2:j*2+2]\n",
    "    return A\n",
    "        "
   ]
  },
  {
   "cell_type": "code",
   "execution_count": 35,
   "metadata": {},
   "outputs": [],
   "source": [
    "# генерируем вектор правых частей\n",
    "def right(eff,Num_nod):\n",
    "    a = np.zeros(Num_nod*2)\n",
    "    print(eff)\n",
    "    for i in range(len(eff)):\n",
    "        for j in range(Num_nod):\n",
    "            if eff[i,0] == j:\n",
    "                a[j*2] = eff[i,1]\n",
    "                a[j*2+1] = eff[i,2]\n",
    "            \n",
    "    return a"
   ]
  },
  {
   "cell_type": "code",
   "execution_count": 36,
   "metadata": {},
   "outputs": [],
   "source": [
    "def FEM():\n",
    "    el_nod,Coord_nod,D,eff,Num_nod,Num_el,lim,D=MyData()\n",
    "    rig = right(eff,Num_nod)\n",
    "    K0 = np.zeros((Num_nod*2,Num_nod*2))\n",
    "    for i in range(0,Num_el):\n",
    "        ind = el_nod[i,:]\n",
    "        K0 = sum_K(K0,make_K(i,el_nod,Coord_nod,D,eff,lim),ind[0],i)\n",
    "    \n",
    "    K0 = K_ok(K0,lim)\n",
    "    \n",
    "    U = np.linalg.solve(K0,rig.T)\n",
    "    max_sig = 0\n",
    "    max_sig_i = -1\n",
    "    m_s=0\n",
    "    m_s_i=-1\n",
    "    for i in range(Num_el):\n",
    "        B = make_B(i,el_nod,Coord_nod,D,eff,lim)\n",
    "        Ui = np.zeros((6))\n",
    "        Ui[0] = U[el_nod[i,0]*2]\n",
    "        Ui[1] = U[el_nod[i,0]*2+1]\n",
    "        Ui[2] = U[el_nod[i,1]*2]\n",
    "        Ui[3] = U[el_nod[i,1]*2+1]  \n",
    "        Ui[4] = U[el_nod[i,2]*2]\n",
    "        Ui[5] = U[el_nod[i,2]*2+1] \n",
    "        #деформации (эпсилон)    \n",
    "        Eps = B.dot(Ui)\n",
    "        # напряжения(сигма)\n",
    "        Nap = D.dot(Eps) \n",
    "        NapM = np.matrix([[Nap[0],Nap[2]],[Nap[2],Nap[1]]])\n",
    "        Sig,s = np.linalg.eig(NapM) \n",
    "        \n",
    "        now_sig = m.sqrt(Nap[0]**2-Nap[0]*Nap[1]+Nap[1]**2+3*Nap[2]**2)\n",
    "        if now_sig > max_sig:\n",
    "            max_sig = now_sig\n",
    "            max_sig_i = i\n",
    "        #now_sig = max(abs(Sig))\n",
    "        #if n_s > m_s:\n",
    "         #   m_s = n_s\n",
    "          #  m_s_i = i\n",
    "        #print('Модуль максимального главного напряжения ',max(abs(Sig)))\n",
    "        #print('Деформации в ',i,' элементе',Eps)\n",
    "        #print('Напряжения в ',i,' элементе',Nap)\n",
    "    a = Coord_nod[el_nod[max_sig_i,0],:]\n",
    "    b = Coord_nod[el_nod[max_sig_i,1],:]\n",
    "    c = Coord_nod[el_nod[max_sig_i,2],:]\n",
    "    print(a,max_sig)\n",
    "    plt.plot(Coord_nod[:,0],Coord_nod[:,1],'.')\n",
    "    plt.plot(b[0,0],b[0,1],'r.')\n",
    "    plt.plot(a[0,0],a[0,1],'r.')\n",
    "    plt.plot(c[0,0],c[0,1],'r.')\n",
    "\n",
    "\n",
    "    return \n"
   ]
  },
  {
   "cell_type": "code",
   "execution_count": 37,
   "metadata": {
    "scrolled": false
   },
   "outputs": [
    {
     "name": "stdout",
     "output_type": "stream",
     "text": [
      "[[20.   -0.5   0.  ]\n",
      " [40.   -0.5   0.  ]\n",
      " [41.   -0.5   0.  ]\n",
      " [42.   -0.5   0.  ]\n",
      " [43.   -0.5   0.  ]\n",
      " [44.   -0.5   0.  ]\n",
      " [45.   -0.5   0.  ]\n",
      " [46.   -0.5   0.  ]\n",
      " [47.   -0.5   0.  ]\n",
      " [48.   -0.5   0.  ]\n",
      " [49.   -0.5   0.  ]\n",
      " [50.   -0.5   0.  ]\n",
      " [51.   -0.5   0.  ]\n",
      " [52.   -0.5   0.  ]\n",
      " [53.   -0.5   0.  ]\n",
      " [54.   -0.5   0.  ]\n",
      " [55.   -0.5   0.  ]\n",
      " [56.   -0.5   0.  ]\n",
      " [57.   -0.5   0.  ]\n",
      " [58.   -0.25  0.  ]\n",
      " [59.   -0.25  0.  ]\n",
      " [60.    0.25  0.  ]\n",
      " [80.    0.25  0.  ]\n",
      " [81.    0.5   0.  ]\n",
      " [82.    0.5   0.  ]\n",
      " [83.    0.5   0.  ]\n",
      " [84.    0.5   0.  ]\n",
      " [85.    0.5   0.  ]\n",
      " [86.    0.5   0.  ]\n",
      " [87.    0.5   0.  ]\n",
      " [88.    0.5   0.  ]\n",
      " [89.    0.5   0.  ]\n",
      " [90.    0.5   0.  ]\n",
      " [91.    0.5   0.  ]\n",
      " [92.    0.5   0.  ]\n",
      " [93.    0.5   0.  ]\n",
      " [94.    0.5   0.  ]\n",
      " [95.    0.5   0.  ]\n",
      " [96.    0.5   0.  ]\n",
      " [97.    0.5   0.  ]\n",
      " [98.    0.5   0.  ]\n",
      " [99.    0.5   0.  ]]\n",
      "[]\n",
      "[[-0.02938926 -0.04045085]] 31.186598134751975\n"
     ]
    },
    {
     "data": {
      "image/png": "[encoded data removed]",
      "text/plain": [
       "<Figure size 432x288 with 1 Axes>"
      ]
     },
     "metadata": {
      "needs_background": "light"
     },
     "output_type": "display_data"
    }
   ],
   "source": [
    "FEM()"
   ]
  },
  {
   "cell_type": "code",
   "execution_count": null,
   "metadata": {},
   "outputs": [],
   "source": []
  },
  {
   "cell_type": "code",
   "execution_count": null,
   "metadata": {},
   "outputs": [],
   "source": []
  }
 ],
 "metadata": {
  "kernelspec": {
   "display_name": "Python 3",
   "language": "python",
   "name": "python3"
  },
  "language_info": {
   "codemirror_mode": {
    "name": "ipython",
    "version": 3
   },
   "file_extension": ".py",
   "mimetype": "text/x-python",
   "name": "python",
   "nbconvert_exporter": "python",
   "pygments_lexer": "ipython3",
   "version": "3.8.3"
  }
 },
 "nbformat": 4,
 "nbformat_minor": 4
}
