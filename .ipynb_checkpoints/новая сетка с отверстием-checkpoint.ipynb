{
 "cells": [
  {
   "cell_type": "code",
   "execution_count": 1,
   "metadata": {},
   "outputs": [],
   "source": [
    "import numpy as np\n",
    "import matplotlib.pyplot as plt\n",
    "\n",
    "import math as ma"
   ]
  },
  {
   "cell_type": "code",
   "execution_count": 80,
   "metadata": {},
   "outputs": [],
   "source": [
    "def void_mesh(d1,d2,p,m,R,element_type):\n",
    "    q = np.array([[0,0],[d1,0],[0,d2],[d1,d2]])\n",
    "    PD = 2\n",
    "    NoN = (m+1)*(p+1)*2+(m+1)*(p-1)*2\n",
    "    NoE = 4*p*m\n",
    "    NPE = 4\n",
    "    NL = np.zeros([NoN,PD])\n",
    "    a = (q[1,0]-q[0,0])/p\n",
    "    b = (q[2,1]-q[0,1])/p\n",
    "    \n",
    "    coor11 = np.zeros([(p+1)*(m+1),PD])\n",
    "    \n",
    "    for i in range(1,p+2):\n",
    "        coor11[i-1,0] = q[0,0]+(i-1)*a\n",
    "        coor11[i-1,1] = q[0,1]\n",
    "    for i in range(1,p+2):\n",
    "        coor11[m*(p+1)+i-1,0] = d1/2 + R*np.cos((5*ma.pi/4)+(i-1)*ma.pi/(2*p))\n",
    "        coor11[m*(p+1)+i-1,1] = d2/2 + R*np.sin((5*ma.pi/4)+(i-1)*ma.pi/(2*p))\n",
    "    for i in range(1,m):\n",
    "        for j in range(1,p+2):\n",
    "            dx = (coor11[m*(p+1)+j-1,0]-coor11[j-1,0])/m\n",
    "            dy = (coor11[m*(p+1)+j-1,1]-coor11[j-1,1])/m\n",
    "            coor11[i*(p+1)+j-1,0] = coor11[(i-1)*(p+1)+j-1,0] + dx\n",
    "            coor11[i*(p+1)+j-1,1] = coor11[(i-1)*(p+1)+j-1,1] + dy\n",
    "    \n",
    "    coor22 =np.zeros([(p+1)*(m+1),PD])\n",
    "    for i in range(1,p+2):\n",
    "        coor22[i-1,0] = q[2,0]+(i-1)*a\n",
    "        coor22[i-1,1] = q[2,1]\n",
    "    for i in range(1,p+2):\n",
    "        coor22[m*(p+1)+i-1,0] = d1/2 + R*np.cos((3*ma.pi/4)-(i-1)*ma.pi/(p*2))\n",
    "        coor22[m*(p+1)+i-1,1] = d2/2 + R*np.sin((3*ma.pi/4)-(i-1)*ma.pi/(2*p))\n",
    "    for i in range(1,m):\n",
    "        for j in range(1,p+2):\n",
    "            dx = (coor22[m*(p+1)+j-1,0]-coor22[j-1,0])/m\n",
    "            dy = (coor22[m*(p+1)+j-1,1]-coor22[j-1,1])/m\n",
    "            coor22[i*(p+1)+j-1,0] = coor22[(i-1)*(p+1)+j-1,0] + dx\n",
    "            coor22[i*(p+1)+j-1,1] = coor22[(i-1)*(p+1)+j-1,1] + dy\n",
    "            \n",
    "    coor33 = np.zeros([(p-1)*(m+1),PD])\n",
    "    for i in range(1,p):\n",
    "        coor33[i-1,0] = q[0,0]\n",
    "        coor33[i-1,1] = q[0,1] + i*b\n",
    "    for i in range(1,p):\n",
    "        coor33[m*(p-1)+i-1,0] = d1/2 + R*np.cos((5*ma.pi/4)-(i)*ma.pi/(p*2))\n",
    "        coor33[m*(p-1)+i-1,1] = d2/2 + R*np.sin((5*ma.pi/4)-(i)*ma.pi/(p*2))\n",
    "    for i in range(1,m):\n",
    "        for j in range(1,p):\n",
    "            dx = (coor33[m*(p-1)+j-1,0]-coor33[j-1,0])/m\n",
    "            dy = (coor33[m*(p-1)+j-1,1]-coor33[j-1,1])/m\n",
    "            coor33[i*(p-1)+j-1,0] = coor33[(i-1)*(p-1)+j-1,0] + dx\n",
    "            coor33[i*(p-1)+j-1,1] = coor33[(i-1)*(p-1)+j-1,1] + dy\n",
    "     \n",
    "    coor44 = np.zeros([(p-1)*(m+1),PD])\n",
    "    for i in range(1,p):\n",
    "        coor44[i-1,0] = q[1,0]\n",
    "        coor44[i-1,1] = q[1,1] + i*b\n",
    "    for i in range(1,p):\n",
    "        coor44[m*(p-1)+i-1,0] = d1/2 + R*np.cos((7*ma.pi/4)+(i)*ma.pi/(p*2))\n",
    "        coor44[m*(p-1)+i-1,1] = d2/2 + R*np.sin((7*ma.pi/4)+(i)*ma.pi/(p*2))\n",
    "    for i in range(1,m):\n",
    "        for j in range(1,p):\n",
    "            dx = (coor44[m*(p-1)+j-1,0]-coor44[j-1,0])/m\n",
    "            dy = (coor44[m*(p-1)+j-1,1]-coor44[j-1,1])/m\n",
    "            coor44[i*(p-1)+j-1,0] = coor44[(i-1)*(p-1)+j-1,0] + dx\n",
    "            coor44[i*(p-1)+j-1,1] = coor44[(i-1)*(p-1)+j-1,1] + dy\n",
    "     \n",
    "    for i in range(1,m+2):\n",
    "        NL[(i-1)*4*p:i*4*p,:] = np.vstack([coor11[(i-1)*(p+1):i*(p+1),:],coor44[(i-1)*(p-1):i*(p-1),:],np.flipud(coor22[(i-1)*(p+1):i*(p+1),:]),np.flipud(coor33[(i-1)*(p-1):i*(p-1),:])])\n",
    "    \n",
    "\n",
    "    EL = np.zeros([NoE,NPE])\n",
    "    for i in range(1,m+1):\n",
    "        for j in range(1,4*p+1):\n",
    "            if j == 1:\n",
    "                EL[(i-1)*4*p+j-1,0] = (i-1)*4*p + j\n",
    "                EL[(i-1)*4*p+j-1,1] = EL[(i-1)*4*p+j-1,0] + 1\n",
    "                EL[(i-1)*4*p+j-1,3] = EL[(i-1)*4*p+j-1,0] + 4*p\n",
    "                EL[(i-1)*4*p+j-1,2] = EL[(i-1)*4*p+j-1,3] + 1\n",
    "            elif j == 4*p:\n",
    "                EL[(i-1)*4*p+j-1,0] = i*4*p\n",
    "                EL[(i-1)*4*p+j-1,1] = (i-1)*4*p + 1\n",
    "                EL[(i-1)*4*p+j-1,2] = EL[(i-1)*4*p+j-1,0] + 1\n",
    "                EL[(i-1)*4*p+j-1,3] = EL[(i-1)*4*p+j-1,0] + 4*p \n",
    "            else:\n",
    "                EL[(i-1)*4*p+j-1,0] = EL[(i-1)*4*p+j-2,1]\n",
    "                EL[(i-1)*4*p+j-1,3] = EL[(i-1)*4*p+j-2,2]\n",
    "                EL[(i-1)*4*p+j-1,2] = EL[(i-1)*4*p+j-1,3] + 1\n",
    "                EL[(i-1)*4*p+j-1,1] = EL[(i-1)*4*p+j-1,0] + 1\n",
    "    if element_type == 'D2TR3N':\n",
    "        NPEn = 3\n",
    "        NoEn = 2*NoE\n",
    "        ELn = np.zeros([NoEn,NPE])\n",
    "        for i in range(1,NoE+1):\n",
    "            ELn[2*(i-1),0] = EL[i-1,0]\n",
    "            ELn[2*(i-1),1] = EL[i-1,1]\n",
    "            ELn[2*(i-1),2] = EL[i-1,2]\n",
    "            ELn[2*(i-1)+1,0] = EL[i-1,0]\n",
    "            ELn[2*(i-1)+1,1] = EL[i-1,2]\n",
    "            ELn[2*(i-1)+1,2] = EL[i-1,3]\n",
    "        EL = ELn\n",
    "    EL = EL.astype(int)\n",
    "    return NL,EL\n"
   ]
  },
  {
   "cell_type": "code",
   "execution_count": null,
   "metadata": {},
   "outputs": [],
   "source": []
  },
  {
   "cell_type": "code",
   "execution_count": 92,
   "metadata": {},
   "outputs": [
    {
     "data": {
      "image/png": "[encoded data removed]",
      "text/plain": [
       "<Figure size 432x288 with 1 Axes>"
      ]
     },
     "metadata": {
      "needs_background": "light"
     },
     "output_type": "display_data"
    }
   ],
   "source": [
    "d1 = 1\n",
    "d2 = 1\n",
    "p = 3\n",
    "m = 8\n",
    "R = 0.05\n",
    "element_type = \"D2QU4N\"\n",
    "NL, EL = void_mesh(d1,d2,p,m,R,element_type)\n",
    "NoN = np.size(NL,0)\n",
    "NoE = np.size(EL,0)\n",
    "plt.figure(1)\n",
    "\n",
    "count = 1\n",
    "#for i in range(0,NoN):\n",
    " #   plt.annotate(count,xy = (NL[i,0],NL[i,1]))\n",
    "  #  count +=1\n",
    "if element_type == 'D2QU4N':\n",
    "   # count2 = 1\n",
    "    #for j in range(0,NoE):\n",
    "     #   plt.annotate(count2,xy=((NL[EL[j,0]-1,0]+NL[EL[j,1]-1,0]+NL[EL[j,2]-1,0]+NL[EL[j,3]-1,0])/4,(NL[EL[j,0]-1,1]+NL[EL[j,1]-1,1]+NL[EL[j,2]-1,1]+NL[EL[j,3]-1,1])/4),c = 'blue')\n",
    "      #  count2 += 1\n",
    "    x0, y0 = NL[EL[:,0]-1,0], NL[EL[:,0]-1,1]\n",
    "    x1, y1 = NL[EL[:,1]-1,0], NL[EL[:,1]-1,1]\n",
    "    x2, y2 = NL[EL[:,2]-1,0], NL[EL[:,2]-1,1]\n",
    "    x3, y3 = NL[EL[:,3]-1,0], NL[EL[:,3]-1,1]\n",
    "    plt.plot(np.array([x0,x1]),np.array([y0,y1]),'red',linewidth=1)\n",
    "    plt.plot(np.array([x1,x2]),np.array([y1,y2]),'red',linewidth=1)\n",
    "    plt.plot(np.array([x2,x3]),np.array([y2,y3]),'red',linewidth=1)\n",
    "    plt.plot(np.array([x3,x0]),np.array([y3,y0]),'red',linewidth=1)\n"
   ]
  },
  {
   "cell_type": "code",
   "execution_count": 1,
   "metadata": {},
   "outputs": [
    {
     "ename": "NameError",
     "evalue": "name 'void_mesh' is not defined",
     "output_type": "error",
     "traceback": [
      "\u001b[1;31m---------------------------------------------------------------------------\u001b[0m",
      "\u001b[1;31mNameError\u001b[0m                                 Traceback (most recent call last)",
      "\u001b[1;32m<ipython-input-1-83dc4c3c79db>\u001b[0m in \u001b[0;36m<module>\u001b[1;34m\u001b[0m\n\u001b[0;32m      1\u001b[0m \u001b[0melement_type\u001b[0m \u001b[1;33m=\u001b[0m \u001b[1;34m'D2TR3N'\u001b[0m\u001b[1;33m\u001b[0m\u001b[1;33m\u001b[0m\u001b[0m\n\u001b[1;32m----> 2\u001b[1;33m \u001b[0mNL\u001b[0m\u001b[1;33m,\u001b[0m \u001b[0mEL\u001b[0m \u001b[1;33m=\u001b[0m \u001b[0mvoid_mesh\u001b[0m\u001b[1;33m(\u001b[0m\u001b[0md1\u001b[0m\u001b[1;33m,\u001b[0m\u001b[0md2\u001b[0m\u001b[1;33m,\u001b[0m\u001b[0mp\u001b[0m\u001b[1;33m,\u001b[0m\u001b[0mm\u001b[0m\u001b[1;33m,\u001b[0m\u001b[0mR\u001b[0m\u001b[1;33m,\u001b[0m\u001b[0melement_type\u001b[0m\u001b[1;33m)\u001b[0m\u001b[1;33m\u001b[0m\u001b[1;33m\u001b[0m\u001b[0m\n\u001b[0m\u001b[0;32m      3\u001b[0m \u001b[1;32mif\u001b[0m \u001b[0melement_type\u001b[0m \u001b[1;33m==\u001b[0m \u001b[1;34m'D2TR3N'\u001b[0m\u001b[1;33m:\u001b[0m\u001b[1;33m\u001b[0m\u001b[1;33m\u001b[0m\u001b[0m\n\u001b[0;32m      4\u001b[0m     \u001b[1;31m#count2 = 1\u001b[0m\u001b[1;33m\u001b[0m\u001b[1;33m\u001b[0m\u001b[1;33m\u001b[0m\u001b[0m\n\u001b[0;32m      5\u001b[0m     \u001b[1;31m#for j in range(0,NoE):\u001b[0m\u001b[1;33m\u001b[0m\u001b[1;33m\u001b[0m\u001b[1;33m\u001b[0m\u001b[0m\n",
      "\u001b[1;31mNameError\u001b[0m: name 'void_mesh' is not defined"
     ]
    }
   ],
   "source": [
    "element_type = 'D2TR3N'\n",
    "NL, EL = void_mesh(d1,d2,p,m,R,element_type)\n",
    "if element_type == 'D2TR3N':\n",
    "    #count2 = 1\n",
    "    #for j in range(0,NoE):\n",
    "     #   plt.annotate(count2,xy = ((NL[EL[j,0]-1,0]+NL[EL[j,1]-1,0]+NL[EL[j,2]-1,0])/3,(NL[EL[j,0]-1,1]+NL[int(EL[j,1])-1,1]+NL[int(EL[j,2])-1,1])/4),c = 'blue')\n",
    "      #  count2 += 1\n",
    "    x0, y0 = NL[EL[:,0]-1,0], NL[EL[:,0]-1,1]\n",
    "    x1, y1 = NL[EL[:,1]-1,0], NL[EL[:,1]-1,1]\n",
    "    x2, y2 = NL[EL[:,2]-1,0], NL[EL[:,2]-1,1]\n",
    "    plt.plot(np.array([x0,x1]),np.array([y0,y1]),'red',linewidth=1);\n",
    "    plt.plot(np.array([x1,x2]),np.array([y1,y2]),'red',linewidth=1);\n",
    "    plt.plot(np.array([x2,x0]),np.array([y2,y0]),'red',linewidth=1);\n",
    "    "
   ]
  },
  {
   "cell_type": "code",
   "execution_count": 91,
   "metadata": {},
   "outputs": [
    {
     "data": {
      "text/plain": [
       "array([[  1,   2,  22,   0],\n",
       "       [  1,  22,  21,   0],\n",
       "       [  2,   3,  23,   0],\n",
       "       [  2,  23,  22,   0],\n",
       "       [  3,   4,  24,   0],\n",
       "       [  3,  24,  23,   0],\n",
       "       [  4,   5,  25,   0],\n",
       "       [  4,  25,  24,   0],\n",
       "       [  5,   6,  26,   0],\n",
       "       [  5,  26,  25,   0],\n",
       "       [  6,   7,  27,   0],\n",
       "       [  6,  27,  26,   0],\n",
       "       [  7,   8,  28,   0],\n",
       "       [  7,  28,  27,   0],\n",
       "       [  8,   9,  29,   0],\n",
       "       [  8,  29,  28,   0],\n",
       "       [  9,  10,  30,   0],\n",
       "       [  9,  30,  29,   0],\n",
       "       [ 10,  11,  31,   0],\n",
       "       [ 10,  31,  30,   0],\n",
       "       [ 11,  12,  32,   0],\n",
       "       [ 11,  32,  31,   0],\n",
       "       [ 12,  13,  33,   0],\n",
       "       [ 12,  33,  32,   0],\n",
       "       [ 13,  14,  34,   0],\n",
       "       [ 13,  34,  33,   0],\n",
       "       [ 14,  15,  35,   0],\n",
       "       [ 14,  35,  34,   0],\n",
       "       [ 15,  16,  36,   0],\n",
       "       [ 15,  36,  35,   0],\n",
       "       [ 16,  17,  37,   0],\n",
       "       [ 16,  37,  36,   0],\n",
       "       [ 17,  18,  38,   0],\n",
       "       [ 17,  38,  37,   0],\n",
       "       [ 18,  19,  39,   0],\n",
       "       [ 18,  39,  38,   0],\n",
       "       [ 19,  20,  40,   0],\n",
       "       [ 19,  40,  39,   0],\n",
       "       [ 20,   1,  21,   0],\n",
       "       [ 20,  21,  40,   0],\n",
       "       [ 21,  22,  42,   0],\n",
       "       [ 21,  42,  41,   0],\n",
       "       [ 22,  23,  43,   0],\n",
       "       [ 22,  43,  42,   0],\n",
       "       [ 23,  24,  44,   0],\n",
       "       [ 23,  44,  43,   0],\n",
       "       [ 24,  25,  45,   0],\n",
       "       [ 24,  45,  44,   0],\n",
       "       [ 25,  26,  46,   0],\n",
       "       [ 25,  46,  45,   0],\n",
       "       [ 26,  27,  47,   0],\n",
       "       [ 26,  47,  46,   0],\n",
       "       [ 27,  28,  48,   0],\n",
       "       [ 27,  48,  47,   0],\n",
       "       [ 28,  29,  49,   0],\n",
       "       [ 28,  49,  48,   0],\n",
       "       [ 29,  30,  50,   0],\n",
       "       [ 29,  50,  49,   0],\n",
       "       [ 30,  31,  51,   0],\n",
       "       [ 30,  51,  50,   0],\n",
       "       [ 31,  32,  52,   0],\n",
       "       [ 31,  52,  51,   0],\n",
       "       [ 32,  33,  53,   0],\n",
       "       [ 32,  53,  52,   0],\n",
       "       [ 33,  34,  54,   0],\n",
       "       [ 33,  54,  53,   0],\n",
       "       [ 34,  35,  55,   0],\n",
       "       [ 34,  55,  54,   0],\n",
       "       [ 35,  36,  56,   0],\n",
       "       [ 35,  56,  55,   0],\n",
       "       [ 36,  37,  57,   0],\n",
       "       [ 36,  57,  56,   0],\n",
       "       [ 37,  38,  58,   0],\n",
       "       [ 37,  58,  57,   0],\n",
       "       [ 38,  39,  59,   0],\n",
       "       [ 38,  59,  58,   0],\n",
       "       [ 39,  40,  60,   0],\n",
       "       [ 39,  60,  59,   0],\n",
       "       [ 40,  21,  41,   0],\n",
       "       [ 40,  41,  60,   0],\n",
       "       [ 41,  42,  62,   0],\n",
       "       [ 41,  62,  61,   0],\n",
       "       [ 42,  43,  63,   0],\n",
       "       [ 42,  63,  62,   0],\n",
       "       [ 43,  44,  64,   0],\n",
       "       [ 43,  64,  63,   0],\n",
       "       [ 44,  45,  65,   0],\n",
       "       [ 44,  65,  64,   0],\n",
       "       [ 45,  46,  66,   0],\n",
       "       [ 45,  66,  65,   0],\n",
       "       [ 46,  47,  67,   0],\n",
       "       [ 46,  67,  66,   0],\n",
       "       [ 47,  48,  68,   0],\n",
       "       [ 47,  68,  67,   0],\n",
       "       [ 48,  49,  69,   0],\n",
       "       [ 48,  69,  68,   0],\n",
       "       [ 49,  50,  70,   0],\n",
       "       [ 49,  70,  69,   0],\n",
       "       [ 50,  51,  71,   0],\n",
       "       [ 50,  71,  70,   0],\n",
       "       [ 51,  52,  72,   0],\n",
       "       [ 51,  72,  71,   0],\n",
       "       [ 52,  53,  73,   0],\n",
       "       [ 52,  73,  72,   0],\n",
       "       [ 53,  54,  74,   0],\n",
       "       [ 53,  74,  73,   0],\n",
       "       [ 54,  55,  75,   0],\n",
       "       [ 54,  75,  74,   0],\n",
       "       [ 55,  56,  76,   0],\n",
       "       [ 55,  76,  75,   0],\n",
       "       [ 56,  57,  77,   0],\n",
       "       [ 56,  77,  76,   0],\n",
       "       [ 57,  58,  78,   0],\n",
       "       [ 57,  78,  77,   0],\n",
       "       [ 58,  59,  79,   0],\n",
       "       [ 58,  79,  78,   0],\n",
       "       [ 59,  60,  80,   0],\n",
       "       [ 59,  80,  79,   0],\n",
       "       [ 60,  41,  61,   0],\n",
       "       [ 60,  61,  80,   0],\n",
       "       [ 61,  62,  82,   0],\n",
       "       [ 61,  82,  81,   0],\n",
       "       [ 62,  63,  83,   0],\n",
       "       [ 62,  83,  82,   0],\n",
       "       [ 63,  64,  84,   0],\n",
       "       [ 63,  84,  83,   0],\n",
       "       [ 64,  65,  85,   0],\n",
       "       [ 64,  85,  84,   0],\n",
       "       [ 65,  66,  86,   0],\n",
       "       [ 65,  86,  85,   0],\n",
       "       [ 66,  67,  87,   0],\n",
       "       [ 66,  87,  86,   0],\n",
       "       [ 67,  68,  88,   0],\n",
       "       [ 67,  88,  87,   0],\n",
       "       [ 68,  69,  89,   0],\n",
       "       [ 68,  89,  88,   0],\n",
       "       [ 69,  70,  90,   0],\n",
       "       [ 69,  90,  89,   0],\n",
       "       [ 70,  71,  91,   0],\n",
       "       [ 70,  91,  90,   0],\n",
       "       [ 71,  72,  92,   0],\n",
       "       [ 71,  92,  91,   0],\n",
       "       [ 72,  73,  93,   0],\n",
       "       [ 72,  93,  92,   0],\n",
       "       [ 73,  74,  94,   0],\n",
       "       [ 73,  94,  93,   0],\n",
       "       [ 74,  75,  95,   0],\n",
       "       [ 74,  95,  94,   0],\n",
       "       [ 75,  76,  96,   0],\n",
       "       [ 75,  96,  95,   0],\n",
       "       [ 76,  77,  97,   0],\n",
       "       [ 76,  97,  96,   0],\n",
       "       [ 77,  78,  98,   0],\n",
       "       [ 77,  98,  97,   0],\n",
       "       [ 78,  79,  99,   0],\n",
       "       [ 78,  99,  98,   0],\n",
       "       [ 79,  80, 100,   0],\n",
       "       [ 79, 100,  99,   0],\n",
       "       [ 80,  61,  81,   0],\n",
       "       [ 80,  81, 100,   0],\n",
       "       [ 81,  82, 102,   0],\n",
       "       [ 81, 102, 101,   0],\n",
       "       [ 82,  83, 103,   0],\n",
       "       [ 82, 103, 102,   0],\n",
       "       [ 83,  84, 104,   0],\n",
       "       [ 83, 104, 103,   0],\n",
       "       [ 84,  85, 105,   0],\n",
       "       [ 84, 105, 104,   0],\n",
       "       [ 85,  86, 106,   0],\n",
       "       [ 85, 106, 105,   0],\n",
       "       [ 86,  87, 107,   0],\n",
       "       [ 86, 107, 106,   0],\n",
       "       [ 87,  88, 108,   0],\n",
       "       [ 87, 108, 107,   0],\n",
       "       [ 88,  89, 109,   0],\n",
       "       [ 88, 109, 108,   0],\n",
       "       [ 89,  90, 110,   0],\n",
       "       [ 89, 110, 109,   0],\n",
       "       [ 90,  91, 111,   0],\n",
       "       [ 90, 111, 110,   0],\n",
       "       [ 91,  92, 112,   0],\n",
       "       [ 91, 112, 111,   0],\n",
       "       [ 92,  93, 113,   0],\n",
       "       [ 92, 113, 112,   0],\n",
       "       [ 93,  94, 114,   0],\n",
       "       [ 93, 114, 113,   0],\n",
       "       [ 94,  95, 115,   0],\n",
       "       [ 94, 115, 114,   0],\n",
       "       [ 95,  96, 116,   0],\n",
       "       [ 95, 116, 115,   0],\n",
       "       [ 96,  97, 117,   0],\n",
       "       [ 96, 117, 116,   0],\n",
       "       [ 97,  98, 118,   0],\n",
       "       [ 97, 118, 117,   0],\n",
       "       [ 98,  99, 119,   0],\n",
       "       [ 98, 119, 118,   0],\n",
       "       [ 99, 100, 120,   0],\n",
       "       [ 99, 120, 119,   0],\n",
       "       [100,  81, 101,   0],\n",
       "       [100, 101, 120,   0]])"
      ]
     },
     "execution_count": 91,
     "metadata": {},
     "output_type": "execute_result"
    }
   ],
   "source": [
    "EL"
   ]
  },
  {
   "cell_type": "code",
   "execution_count": 2,
   "metadata": {},
   "outputs": [],
   "source": [
    "import numpy as np\n",
    "import matplotlib.pyplot as plt\n",
    "\n",
    "import math as ma"
   ]
  },
  {
   "cell_type": "code",
   "execution_count": 14,
   "metadata": {},
   "outputs": [],
   "source": [
    "K = np.array([[0,1,1,0],[1,0, 1, 0],[0,0,1,1],[1,1,0,0]])\n",
    "b = np.zeros((1,4))\n",
    "a = np.array([0,2,0,0])\n",
    "rig1 = K.dot(a.T)"
   ]
  },
  {
   "cell_type": "code",
   "execution_count": 15,
   "metadata": {},
   "outputs": [],
   "source": [
    "K0 = np.linalg.inv(K)"
   ]
  },
  {
   "cell_type": "code",
   "execution_count": 17,
   "metadata": {},
   "outputs": [
    {
     "data": {
      "text/plain": [
       "array([-2.,  0.,  2.,  2.])"
      ]
     },
     "execution_count": 17,
     "metadata": {},
     "output_type": "execute_result"
    }
   ],
   "source": [
    "K.dot(a).dot(K0)"
   ]
  },
  {
   "cell_type": "code",
   "execution_count": 11,
   "metadata": {},
   "outputs": [
    {
     "data": {
      "text/plain": [
       "array([[4.],\n",
       "       [0.],\n",
       "       [4.],\n",
       "       [0.]])"
      ]
     },
     "execution_count": 11,
     "metadata": {},
     "output_type": "execute_result"
    }
   ],
   "source": [
    "K.dot(an.T)"
   ]
  },
  {
   "cell_type": "code",
   "execution_count": 73,
   "metadata": {},
   "outputs": [],
   "source": [
    "for i in range(3):\n",
    "    if abs(a[0,i])>10e-6:\n",
    "        K[i,:] = K[i,:]*0\n",
    "        K[:,i] = K[:,i]*0\n",
    "        K[i,i] = 1"
   ]
  },
  {
   "cell_type": "code",
   "execution_count": 74,
   "metadata": {},
   "outputs": [
    {
     "data": {
      "text/plain": [
       "array([[ 2,  0,  0,  0],\n",
       "       [ 0,  1,  0,  0],\n",
       "       [ 0,  0,  4, -3],\n",
       "       [ 1,  0, -1,  0]])"
      ]
     },
     "execution_count": 74,
     "metadata": {},
     "output_type": "execute_result"
    }
   ],
   "source": [
    "K"
   ]
  },
  {
   "cell_type": "code",
   "execution_count": 75,
   "metadata": {},
   "outputs": [],
   "source": [
    "an = -np.linalg.solve(K,rig1)"
   ]
  },
  {
   "cell_type": "code",
   "execution_count": 76,
   "metadata": {},
   "outputs": [
    {
     "data": {
      "text/plain": [
       "array([[ 1.],\n",
       "       [-6.],\n",
       "       [ 3.],\n",
       "       [ 4.]])"
      ]
     },
     "execution_count": 76,
     "metadata": {},
     "output_type": "execute_result"
    }
   ],
   "source": [
    "an"
   ]
  },
  {
   "cell_type": "code",
   "execution_count": 90,
   "metadata": {},
   "outputs": [
    {
     "name": "stdout",
     "output_type": "stream",
     "text": [
      "-6.0 2\n"
     ]
    }
   ],
   "source": [
    "for i in range(len(a.T)):\n",
    "    if abs(a[0,i])>0:\n",
    "        an[i,0] = a[0,i] \n"
   ]
  },
  {
   "cell_type": "code",
   "execution_count": 91,
   "metadata": {},
   "outputs": [
    {
     "data": {
      "text/plain": [
       "array([[1.],\n",
       "       [2.],\n",
       "       [3.],\n",
       "       [4.]])"
      ]
     },
     "execution_count": 91,
     "metadata": {},
     "output_type": "execute_result"
    }
   ],
   "source": [
    "an"
   ]
  },
  {
   "cell_type": "code",
   "execution_count": 79,
   "metadata": {},
   "outputs": [
    {
     "data": {
      "text/plain": [
       "(1, 4)"
      ]
     },
     "execution_count": 79,
     "metadata": {},
     "output_type": "execute_result"
    }
   ],
   "source": [
    "np.shape(a)"
   ]
  },
  {
   "cell_type": "code",
   "execution_count": null,
   "metadata": {},
   "outputs": [],
   "source": []
  }
 ],
 "metadata": {
  "kernelspec": {
   "display_name": "Python 3",
   "language": "python",
   "name": "python3"
  },
  "language_info": {
   "codemirror_mode": {
    "name": "ipython",
    "version": 3
   },
   "file_extension": ".py",
   "mimetype": "text/x-python",
   "name": "python",
   "nbconvert_exporter": "python",
   "pygments_lexer": "ipython3",
   "version": "3.8.3"
  }
 },
 "nbformat": 4,
 "nbformat_minor": 4
}
