{
 "cells": [
  {
   "cell_type": "markdown",
   "metadata": {},
   "source": [
    "Ввод данных из файла"
   ]
  },
  {
   "cell_type": "code",
   "execution_count": 1,
   "metadata": {},
   "outputs": [],
   "source": [
    "import seaborn as sns\n",
    "import scipy.sparse as sparse\n",
    "import sympy as sp\n",
    "import numpy as np\n",
    "import matplotlib.pyplot as plt\n",
    "import math as m\n",
    "import triangle as tr"
   ]
  },
  {
   "cell_type": "code",
   "execution_count": 2,
   "metadata": {},
   "outputs": [
    {
     "name": "stdout",
     "output_type": "stream",
     "text": [
      "<class 'numpy.matrix'>\n"
     ]
    }
   ],
   "source": [
    "# путь к файлу\n",
    "f = open(\"newex\", \"r\")\n",
    "all_file = f.readlines()\n",
    "# Юнг, Пуассон\n",
    "mu = float(all_file[0].split(' ')[0]) \n",
    "E = float(all_file[0].split(' ')[1])\n",
    "# количество узлов\n",
    "Num_nod = int(all_file[1])\n",
    "#список узлов с координатами\n",
    "Coord_nod = np.matrix([-1,-1])\n",
    "for i in range(2,Num_nod + 2):\n",
    "    this_line = all_file[i].split(' ')\n",
    "    Coord_nod = np.append(Coord_nod,[[float(this_line[0]),float(this_line[1])]],axis = 0)\n",
    "Coord_nod = np.delete(Coord_nod,0,axis = 0)\n",
    "# количество конечных элементов\n",
    "Num_el = int(all_file[Num_nod+2])\n",
    "#список элементов с соответсвующими узлами\n",
    "el_nod = np.matrix([-1,-1,-1])\n",
    "for i in range(Num_nod+3,Num_nod+3+Num_el):\n",
    "    this_line = all_file[i].split(' ')\n",
    "    el_nod = np.append(el_nod,[[int(this_line[0]),int(this_line[1]),int(this_line[2])]],axis = 0)\n",
    "el_nod = np.delete(el_nod,0,axis = 0)\n",
    "print(type(el_nod))\n",
    "# ограничения движения \n",
    "lim_in_nod = int(all_file[Num_nod+3+Num_el])\n",
    "lim = np.matrix([-1,-1])\n",
    "for i in range(Num_nod+4+Num_el,Num_nod+4+Num_el+lim_in_nod):\n",
    "    this_line = all_file[i].split(' ')\n",
    "    lim = np.append(lim,[[float(this_line[0]),float(this_line[1])]],axis = 0)\n",
    "lim = np.delete(lim,0,axis = 0)\n",
    "# количество узлов, в которых приложены усилия\n",
    "eff_in_nod = int(all_file[Num_nod+4+Num_el+lim_in_nod])\n",
    "eff = np.matrix([-1,-1,-1])\n",
    "for i in range(Num_nod+5+Num_el+lim_in_nod,Num_nod+5+Num_el+lim_in_nod+eff_in_nod):\n",
    "    this_line = all_file[i].split(' ')\n",
    "    eff = np.append(eff,[[float(this_line[0]),float(this_line[1]),float(this_line[2])]],axis = 0)\n",
    "eff = np.delete(eff,0,axis = 0)\n",
    "\n",
    "\n",
    "\n"
   ]
  },
  {
   "cell_type": "code",
   "execution_count": 3,
   "metadata": {},
   "outputs": [
    {
     "name": "stdout",
     "output_type": "stream",
     "text": [
      "[[2197.8021978   659.34065934    0.        ]\n",
      " [ 659.34065934 2197.8021978     0.        ]\n",
      " [   0.            0.          769.23076923]]\n"
     ]
    }
   ],
   "source": [
    "# ищем матрицу D\n",
    "D = E/(1 - mu*mu)*np.array([[1,mu,0],[mu,1,0],[0,0, (1-mu)/2]])\n",
    "#D = E*(1-mu)/((1+mu)*(1-2*mu))*np.array([[1,mu/(1-mu),0],[mu/(1-mu),1,0],[0,0,(1-2*mu)/(2*(1-mu))]])\n",
    "print(D)"
   ]
  },
  {
   "cell_type": "code",
   "execution_count": 4,
   "metadata": {},
   "outputs": [],
   "source": [
    "# убираем сингулярность\n",
    "def K_ok(A,lim):\n",
    "    print(lim)\n",
    "    for i in range(len(lim)):\n",
    "        for j in range(len(A)):\n",
    "            if lim[i,0] == j:\n",
    "                if lim[i,1] == 1:\n",
    "                    ii = int(lim[i,0]*2)\n",
    "                    for k in range(len(A)):\n",
    "                        if j == k:\n",
    "                            A[ii,j] = 1\n",
    "                        else:\n",
    "                            A[ii,j] = 0\n",
    "                            A[j,ii] = 0\n",
    "                if lim[i,1] == 2:\n",
    "                    ii = int(lim[i,0]*2+1)\n",
    "                    for k in range(len(A)):\n",
    "                        if j == k:\n",
    "                            A[ii,j] = 1\n",
    "                        else:\n",
    "                            A[ii,j] = 0\n",
    "                            A[j,ii] = 0\n",
    "                if lim[i,1] == 3:\n",
    "                    ii1 = int(lim[i,0]*2)\n",
    "                    ii0 = int(lim[i,0]*2+1)\n",
    "                    \n",
    "                    for k in range(len(A)):\n",
    "                            A[ii1,k] = 0\n",
    "                            A[k,ii1] = 0\n",
    "                            A[ii0,k] = 0\n",
    "                            A[k,ii0] = 0\n",
    "                    A[ii1,ii1] = 1\n",
    "                    A[ii0,ii0] = 1\n",
    "    return A"
   ]
  },
  {
   "cell_type": "code",
   "execution_count": 5,
   "metadata": {},
   "outputs": [],
   "source": [
    "#функция которой дают номера узлов, соответствующих элементу,\n",
    "# и матрицу с координатами, а она считает определитель*2\n",
    "def Det2(xi,yi,xj,yj,xk,yk):\n",
    "    return (xj*(yk - yi) + xi*(yj - yk) + xk*(yi - yj))"
   ]
  },
  {
   "cell_type": "code",
   "execution_count": 6,
   "metadata": {},
   "outputs": [],
   "source": [
    "def make_B(num,el_nod,Coord_nod,D,eff,lim):\n",
    "    x,y,z = sp.symbols('x, y, z')\n",
    "    ui,uj,uk = sp.var('ui uj uk')\n",
    "    vi,vj,vk = sp.var('vi vj vk')\n",
    "    wi,wj,wk = sp.var('wi wj wk')\n",
    "    n = el_nod[num,0]\n",
    "    m = el_nod[num,1]\n",
    "    t = el_nod[num,2]\n",
    "    # для конкретного элемента ищем координаты узлов\n",
    "    xi = Coord_nod[n,0]\n",
    "    yi = Coord_nod[n,1]\n",
    "    xj = Coord_nod[m,0]\n",
    "    yj = Coord_nod[m,1]\n",
    "    xk = Coord_nod[t,0]\n",
    "    yk = Coord_nod[t,1]\n",
    "    # пользуемся формулами со слайда 29\n",
    "    Det = Det2(xi,yi,xj,yj,xk,yk)\n",
    "    ai = (xj*yk - xk*yj)/Det\n",
    "    aj = (xk*yi - xi*yk)/Det\n",
    "    ak = (xi*yj - xj*yi)/Det\n",
    "    bi = (yj - yk)/Det\n",
    "    bj = (yk - yi)/Det\n",
    "    bk = (yi - yj)/Det\n",
    "    ci = (xk - xj)/Det\n",
    "    cj = (xi - xk)/Det\n",
    "    ck = (xj - xi)/Det\n",
    "    \n",
    "    # собираем матрицу B\n",
    "    Bi =[[bi, 0],[0, ci],[ci, bi]]\n",
    "    Bj =[[bj, 0],[0, cj],[cj, bj]] \n",
    "    Bk =[[bk, 0],[0, ck],[ck, bk]] \n",
    "    B0 = np.hstack([Bi, Bj, Bk])\n",
    "    \n",
    "    return B0"
   ]
  },
  {
   "cell_type": "markdown",
   "metadata": {},
   "source": [
    "ВАЖНО!"
   ]
  },
  {
   "cell_type": "code",
   "execution_count": 7,
   "metadata": {},
   "outputs": [],
   "source": [
    "def make_K(num,el_nod,Coord_nod,D,eff_final,lim):\n",
    "    Bi = make_B(num,el_nod,Coord_nod,D,eff_final,lim)\n",
    "    n = el_nod[num,0]\n",
    "    m = el_nod[num,1]\n",
    "    t = el_nod[num,2]\n",
    "    xi = Coord_nod[n,0]\n",
    "    yi = Coord_nod[n,1]\n",
    "    xj = Coord_nod[m,0]\n",
    "    yj = Coord_nod[m,1]\n",
    "    xk = Coord_nod[t,0]\n",
    "    yk = Coord_nod[t,1]\n",
    "\n",
    "    return (Det2(xi,yi,xj,yj,xk,yk)/2)*Bi.T.dot(D).dot(Bi)"
   ]
  },
  {
   "cell_type": "code",
   "execution_count": 8,
   "metadata": {},
   "outputs": [],
   "source": [
    "#make_K(0,el_nod,Coord_nod,D,eff) "
   ]
  },
  {
   "cell_type": "code",
   "execution_count": 9,
   "metadata": {},
   "outputs": [],
   "source": [
    "# глобальная K \n",
    "def sum_K(A,B,ind,num):\n",
    "    a = len(A)\n",
    "    b = len(B)\n",
    "    for i in range(ind.shape[1]):\n",
    "        for j in range(ind.shape[1]):\n",
    "            ii = ind[0,i]\n",
    "            jj = ind[0,j]\n",
    "            A[ii*2:ii*2+2,jj*2:jj*2+2] += B[i*2:i*2+2,j*2:j*2+2]\n",
    "    return A\n",
    "        "
   ]
  },
  {
   "cell_type": "markdown",
   "metadata": {},
   "source": [
    "с лентой я пока тоже ничего не делаю"
   ]
  },
  {
   "cell_type": "code",
   "execution_count": 10,
   "metadata": {},
   "outputs": [],
   "source": [
    "# хранение полуленты\n",
    "def band(A):\n",
    "    n = len(A)\n",
    "    B = np.zeros((n,6))\n",
    "    A = np.block([A, np.zeros((n,5))])\n",
    "    for i in range(n):\n",
    "        B[i,:] = A[i,i:6+i]\n",
    "    return B"
   ]
  },
  {
   "cell_type": "code",
   "execution_count": 11,
   "metadata": {},
   "outputs": [],
   "source": [
    "# распаковка полуленты\n",
    "def band_out(A):\n",
    "    n = len(A)\n",
    "    A = np.block([[A, np.zeros((n,n))]])\n",
    "    B = np.zeros((n,n*2))\n",
    "    for i in range(n):\n",
    "        for j in range(n):\n",
    "            B[i,i+j] = A[i,j]\n",
    "            B[i,i-j] = B[i-j,i]\n",
    "    \n",
    "        \n",
    "    return B[:,:n]"
   ]
  },
  {
   "cell_type": "code",
   "execution_count": 12,
   "metadata": {},
   "outputs": [],
   "source": [
    "# генерируем вектор правых частей\n",
    "def right(eff,num_nod):\n",
    "    a = np.zeros(Num_nod*2)\n",
    "    for i in range(len(eff)):\n",
    "        for j in range(Num_nod):\n",
    "            if eff[i,0] == j:\n",
    "                a[j*2] = eff[i,1]\n",
    "                a[j*2+1] = eff[i,2]\n",
    "            \n",
    "    return a"
   ]
  },
  {
   "cell_type": "code",
   "execution_count": 13,
   "metadata": {},
   "outputs": [],
   "source": [
    "def FEM(el_nod,Coord_nod,D,eff,Num_nod,Num_el,lim):\n",
    "    rig = right(eff,Num_nod)\n",
    "    K0 = np.zeros((Num_nod*2,Num_nod*2))\n",
    "    for i in range(0,Num_el):\n",
    "        ind = el_nod[i,:]\n",
    "        K0 = sum_K(K0,make_K(i,el_nod,Coord_nod,D,eff,lim),ind[0],i)\n",
    "    K0 = K_ok(K0,lim)\n",
    "\n",
    "    U = np.linalg.solve(K0,rig.T)\n",
    "    #достать перемещения можно где-то здесь\n",
    "    max_sig = 0\n",
    "    max_sig_i = -1\n",
    "    m_s=0\n",
    "    m_s_i=-1\n",
    "    lnap = np.matrix([-1,-1,-1])\n",
    "    for i in range(Num_el):\n",
    "        B = make_B(i,el_nod,Coord_nod,D,eff,lim)\n",
    "        Ui = np.zeros((6))\n",
    "        Ui[0] = U[el_nod[i,0]*2]\n",
    "        Ui[1] = U[el_nod[i,0]*2+1]\n",
    "        Ui[2] = U[el_nod[i,1]*2]\n",
    "        Ui[3] = U[el_nod[i,1]*2+1]  \n",
    "        Ui[4] = U[el_nod[i,2]*2]\n",
    "        Ui[5] = U[el_nod[i,2]*2+1] \n",
    "        #деформации (эпсилон)    \n",
    "        Eps = B.dot(Ui)\n",
    "        # напряжения(сигма)\n",
    "        Nap = D.dot(Eps) \n",
    "        lnap = np.append(lnap,[[Nap[0],Nap[1],Nap[2]]],axis=0)\n",
    "        NapM = np.matrix([[Nap[0],Nap[2]],[Nap[2],Nap[1]]])\n",
    "        \n",
    "        Sig,s = np.linalg.eig(NapM) \n",
    "        \n",
    "        now_sig = m.sqrt(Nap[0]**2-Nap[0]*Nap[1]+Nap[1]**2+3*Nap[2]**2)\n",
    "        if now_sig > max_sig:\n",
    "            max_sig = now_sig\n",
    "            max_sig_i = i\n",
    "        \n",
    "        #now_sig = max(abs(Sig))\n",
    "        #if n_s > m_s:\n",
    "         #   m_s = n_s\n",
    "          #  m_s_i = i\n",
    "        #print('Модуль максимального главного напряжения ',max(abs(Sig)))\n",
    "        #print('Деформации в ',i,' элементе',Eps)\n",
    "        #print('Напряжения в ',i,' элементе',Nap)\n",
    "    print(max_sig)\n",
    "    a = Coord_nod[el_nod[max_sig_i,0],:]\n",
    "    b = Coord_nod[el_nod[max_sig_i,1],:]\n",
    "    c = Coord_nod[el_nod[max_sig_i,2],:]\n",
    "\n",
    "    plt.plot(Coord_nod[:,0],Coord_nod[:,1],'.')\n",
    "    plt.plot(b[0,0],b[0,1],'r.')\n",
    "    plt.plot(a[0,0],a[0,1],'r.')\n",
    "    plt.plot(c[0,0],c[0,1],'r.')\n",
    "    lnap = np.delete(lnap,0,axis = 0)\n",
    "\n",
    "    return np.hstack([U[0*2:10*2],U[264*2:274*2]]),lnap\n"
   ]
  },
  {
   "cell_type": "code",
   "execution_count": 14,
   "metadata": {},
   "outputs": [],
   "source": [
    "f.close()"
   ]
  },
  {
   "cell_type": "code",
   "execution_count": 15,
   "metadata": {},
   "outputs": [
    {
     "name": "stdout",
     "output_type": "stream",
     "text": [
      "[]\n",
      "20.296925707380563\n"
     ]
    },
    {
     "data": {
      "text/plain": [
       "(array([-6.50555180e+09,  2.14362883e+10, -1.02187280e+10,  2.02298042e+10,\n",
       "        -1.25135971e+10,  1.70711879e+10, -1.25135971e+10,  1.31669234e+10,\n",
       "        -1.02187280e+10,  1.00083071e+10, -6.50555180e+09,  8.80182306e+09,\n",
       "        -2.79237563e+09,  1.00083071e+10, -4.97506549e+08,  1.31669234e+10,\n",
       "        -4.97506549e+08,  1.70711879e+10, -2.79237563e+09,  2.02298042e+10,\n",
       "        -1.39886590e+09, -5.97707451e+08, -1.98750291e+10,  5.40556188e+09,\n",
       "         1.00200309e+10,  1.51190557e+10, -1.39886590e+09,  3.08358188e+10,\n",
       "        -1.98750291e+10,  2.48325495e+10, -1.13999043e+10,  5.57874586e+07,\n",
       "         6.30802949e+09,  2.44286674e+10,  6.30802949e+09,  5.80944394e+09,\n",
       "        -1.13999043e+10,  3.01823239e+10, -2.23440093e+10,  1.51190557e+10]),\n",
       " matrix([[-10.65086692,  -1.1197517 ,   0.41081355],\n",
       "         [ 13.95089286,  -5.58035714,   6.00961538],\n",
       "         [-10.35585508,  -1.15363152,  -0.56340144],\n",
       "         ...,\n",
       "         [-10.11439732,  -0.34877232,   0.7042518 ],\n",
       "         [ -9.62645143,   0.89624426,   1.10332782],\n",
       "         [-10.30722817,   0.12743604,   0.44602614]]))"
      ]
     },
     "execution_count": 15,
     "metadata": {},
     "output_type": "execute_result"
    },
    {
     "data": {
      "image/png": "[encoded data removed]",
      "text/plain": [
       "<Figure size 432x288 with 1 Axes>"
      ]
     },
     "metadata": {
      "needs_background": "light"
     },
     "output_type": "display_data"
    }
   ],
   "source": [
    "FEM(el_nod,Coord_nod,D,eff,Num_nod,Num_el,lim)"
   ]
  },
  {
   "cell_type": "markdown",
   "metadata": {},
   "source": [
    "рассмотрим две подобласти для локального решения задачи: круглую и квадратную\n",
    "как задавать их?\n",
    "скорее всего, неравенствами"
   ]
  },
  {
   "cell_type": "code",
   "execution_count": 16,
   "metadata": {},
   "outputs": [],
   "source": [
    "def circleLoc(o,r):\n",
    "    ram = []\n",
    "    coord = [0,0]\n",
    "    for i in range(len(Coord_nod)):\n",
    "        if m.sqrt((o[1] - Coord_nod[i,1])**2+(o[0] - Coord_nod[i,0])**2)<=r :\n",
    "            plt.plot(Coord_nod[i,0],Coord_nod[i,1],'r.')\n",
    "            coord = np.vstack([coord,Coord_nod[i,:]])\n",
    "            ram = np.append(ram,i)\n",
    "            print(i)\n",
    "    coord = np.delete(coord,0,axis=0)\n",
    "    return np.array(ram),np.array(coord)"
   ]
  },
  {
   "cell_type": "code",
   "execution_count": 17,
   "metadata": {},
   "outputs": [
    {
     "name": "stdout",
     "output_type": "stream",
     "text": [
      "0\n",
      "1\n",
      "2\n",
      "3\n",
      "4\n",
      "5\n",
      "6\n",
      "7\n",
      "8\n",
      "9\n",
      "264\n",
      "265\n",
      "266\n",
      "267\n",
      "268\n",
      "269\n",
      "270\n",
      "271\n",
      "272\n",
      "273\n"
     ]
    },
    {
     "data": {
      "image/png": "[encoded data removed]",
      "text/plain": [
       "<Figure size 432x288 with 1 Axes>"
      ]
     },
     "metadata": {
      "needs_background": "light"
     },
     "output_type": "display_data"
    }
   ],
   "source": [
    "s,pts = circleLoc([0,0],0.2)"
   ]
  },
  {
   "cell_type": "code",
   "execution_count": 18,
   "metadata": {},
   "outputs": [
    {
     "name": "stdout",
     "output_type": "stream",
     "text": [
      "[]\n",
      "20.296925707380563\n"
     ]
    },
    {
     "data": {
      "text/plain": [
       "matrix([[-6.50555180e+09,  2.14362883e+10, -1.02187280e+10,\n",
       "          2.02298042e+10, -1.25135971e+10,  1.70711879e+10,\n",
       "         -1.25135971e+10,  1.31669234e+10, -1.02187280e+10,\n",
       "          1.00083071e+10, -6.50555180e+09,  8.80182306e+09,\n",
       "         -2.79237563e+09,  1.00083071e+10, -4.97506549e+08,\n",
       "          1.31669234e+10, -4.97506549e+08,  1.70711879e+10,\n",
       "         -2.79237563e+09,  2.02298042e+10, -1.39886590e+09,\n",
       "         -5.97707451e+08, -1.98750291e+10,  5.40556188e+09,\n",
       "          1.00200309e+10,  1.51190557e+10, -1.39886590e+09,\n",
       "          3.08358188e+10, -1.98750291e+10,  2.48325495e+10,\n",
       "         -1.13999043e+10,  5.57874586e+07,  6.30802949e+09,\n",
       "          2.44286674e+10,  6.30802949e+09,  5.80944394e+09,\n",
       "         -1.13999043e+10,  3.01823239e+10, -2.23440093e+10,\n",
       "          1.51190557e+10]])"
      ]
     },
     "execution_count": 18,
     "metadata": {},
     "output_type": "execute_result"
    },
    {
     "data": {
      "image/png": "[encoded data removed]",
      "text/plain": [
       "<Figure size 432x288 with 1 Axes>"
      ]
     },
     "metadata": {
      "needs_background": "light"
     },
     "output_type": "display_data"
    }
   ],
   "source": [
    "new_lim1,oldnap = FEM(el_nod,Coord_nod,D,eff,Num_nod,Num_el,lim)\n",
    "new_lim1= np.matrix(new_lim1)\n",
    "new_lim1"
   ]
  },
  {
   "cell_type": "markdown",
   "metadata": {},
   "source": [
    "делаем новую сетку\n"
   ]
  },
  {
   "cell_type": "code",
   "execution_count": 148,
   "metadata": {},
   "outputs": [
    {
     "data": {
      "image/png": "[encoded data removed]",
      "text/plain": [
       "<Figure size 432x216 with 2 Axes>"
      ]
     },
     "metadata": {
      "needs_background": "light"
     },
     "output_type": "display_data"
    },
    {
     "name": "stdout",
     "output_type": "stream",
     "text": [
      "<class 'numpy.matrix'>\n"
     ]
    }
   ],
   "source": [
    "\n",
    "seg = np.vstack([np.array([[i,i+1] for i in range(9)]),[[9,0],[10,15],[15,11],[11,19],[19,14],[14,18],[18,13],[13,16],[16,12],[12,17],[17,10]]])\n",
    "A = dict(vertices=pts,segments = seg,holes = [[0,0]])\n",
    "B = tr.triangulate(A,'qpa0.001')\n",
    "tr.compare(plt, A, B)\n",
    "plt.show()\n",
    "Coord_nod1 = np.matrix(B['vertices'])\n",
    "Num_nod1 = len(B['vertices'])\n",
    "el_nod1 = np.matrix(B['triangles'])\n",
    "print(type(el_nod))\n",
    "Num_el1 = len(B['triangles'])\n"
   ]
  },
  {
   "cell_type": "code",
   "execution_count": 149,
   "metadata": {},
   "outputs": [
    {
     "name": "stdout",
     "output_type": "stream",
     "text": [
      "[[ 0.00000000e+00 -6.50555180e+09]\n",
      " [ 1.00000000e+00  2.14362883e+10]\n",
      " [ 2.00000000e+00 -1.02187280e+10]\n",
      " [ 3.00000000e+00  2.02298042e+10]\n",
      " [ 4.00000000e+00 -1.25135971e+10]\n",
      " [ 5.00000000e+00  1.70711879e+10]\n",
      " [ 6.00000000e+00 -1.25135971e+10]\n",
      " [ 7.00000000e+00  1.31669234e+10]\n",
      " [ 8.00000000e+00 -1.02187280e+10]\n",
      " [ 9.00000000e+00  1.00083071e+10]\n",
      " [ 1.00000000e+01 -6.50555180e+09]\n",
      " [ 1.10000000e+01  8.80182306e+09]\n",
      " [ 1.20000000e+01 -2.79237563e+09]\n",
      " [ 1.30000000e+01  1.00083071e+10]\n",
      " [ 1.40000000e+01 -4.97506549e+08]\n",
      " [ 1.50000000e+01  1.31669234e+10]\n",
      " [ 1.60000000e+01 -4.97506549e+08]\n",
      " [ 1.70000000e+01  1.70711879e+10]\n",
      " [ 1.80000000e+01 -2.79237563e+09]\n",
      " [ 1.90000000e+01  2.02298042e+10]\n",
      " [ 2.00000000e+01 -1.39886590e+09]\n",
      " [ 2.10000000e+01 -5.97707451e+08]\n",
      " [ 2.20000000e+01 -1.98750291e+10]\n",
      " [ 2.30000000e+01  5.40556188e+09]\n",
      " [ 2.40000000e+01  1.00200309e+10]\n",
      " [ 2.50000000e+01  1.51190557e+10]\n",
      " [ 2.60000000e+01 -1.39886590e+09]\n",
      " [ 2.70000000e+01  3.08358188e+10]\n",
      " [ 2.80000000e+01 -1.98750291e+10]\n",
      " [ 2.90000000e+01  2.48325495e+10]\n",
      " [ 3.00000000e+01 -1.13999043e+10]\n",
      " [ 3.10000000e+01  5.57874586e+07]\n",
      " [ 3.20000000e+01  6.30802949e+09]\n",
      " [ 3.30000000e+01  2.44286674e+10]\n",
      " [ 3.40000000e+01  6.30802949e+09]\n",
      " [ 3.50000000e+01  5.80944394e+09]\n",
      " [ 3.60000000e+01 -1.13999043e+10]\n",
      " [ 3.70000000e+01  3.01823239e+10]\n",
      " [ 3.80000000e+01 -2.23440093e+10]\n",
      " [ 3.90000000e+01  1.51190557e+10]]\n"
     ]
    }
   ],
   "source": [
    "\n",
    "\n",
    "lim = np.matrix([-1,-1])\n",
    "for i in range(40):\n",
    "    lim = np.append(lim,[[i,new_lim1[0,i]]],axis = 0)\n",
    "lim = np.delete(lim,0,axis = 0)\n",
    "print(lim)\n",
    "eff = np.matrix([-1,-1,-1])\n",
    "#for i in range(Num_nod):\n",
    " #   eff = np.append(eff,[[i,0,0]],axis = 0)\n",
    "#eff = np.delete(eff,0,axis = 0)\n"
   ]
  },
  {
   "cell_type": "code",
   "execution_count": null,
   "metadata": {},
   "outputs": [],
   "source": []
  },
  {
   "cell_type": "code",
   "execution_count": 150,
   "metadata": {},
   "outputs": [],
   "source": [
    "# умножение матрицы на матрицу\n",
    "def d(A,B):\n",
    "    \n",
    "    ans = np.zeros((A.shape[0],B.shape[1]))\n",
    "    for i in range(A.shape[0]):\n",
    "        for j in range(B.shape[1]):\n",
    "            for k in range(B.shape[0]):\n",
    "                ans[i,j] += A[i,k] * B[k,j]\n",
    "    return ans"
   ]
  },
  {
   "cell_type": "code",
   "execution_count": 151,
   "metadata": {},
   "outputs": [],
   "source": [
    "def FEM1(el_nod,Coord_nod,D,eff,Num_nod,Num_el,lim):\n",
    "    rig = right(eff,Num_nod)\n",
    "    K0 = np.zeros((Num_nod*2,Num_nod*2))\n",
    "    for i in range(0,Num_el):\n",
    "        ind = el_nod[i,:]\n",
    "        K0 = sum_K(K0,make_K(i,el_nod,Coord_nod,D,eff,lim),ind[0],i)\n",
    "   \n",
    "    #делаем то, что написовала на листочке\n",
    "    K2 = K0[40:,:40]\n",
    "  \n",
    "    rig = d(K2,new_lim1)\n",
    "    rig = np.sum(rig,axis=1)\n",
    "    K1 = K0[40:,40:]\n",
    "    \n",
    "    \n",
    "    #K0 = K_ok(K0,lim)\n",
    "\n",
    "    U = np.linalg.solve(K1,-rig.T)\n",
    "    \n",
    "    U = np.hstack([np.array(new_lim1[0]),[U]])[0]\n",
    "\n",
    "    #достать перемещения можно где-то здесь\n",
    "    max_sig = 0\n",
    "    max_sig_i = -1\n",
    "    m_s=0\n",
    "    m_s_i=-1\n",
    "    lnap = [-1,-1,-1]\n",
    "    outnap = np.matrix([-1,-1,-1])\n",
    "    for i in range(Num_el):\n",
    "        B = make_B(i,el_nod,Coord_nod,D,eff,lim)\n",
    "        Ui = np.zeros((6))\n",
    "        Ui[0] = U[el_nod[i,0]*2]\n",
    "        Ui[1] = U[el_nod[i,0]*2+1]\n",
    "        Ui[2] = U[el_nod[i,1]*2]\n",
    "        Ui[3] = U[el_nod[i,1]*2+1]  \n",
    "        Ui[4] = U[el_nod[i,2]*2]\n",
    "        Ui[5] = U[el_nod[i,2]*2+1] \n",
    "        #деформации (эпсилон)    \n",
    "        Eps = B.dot(Ui)\n",
    "        # напряжения(сигма)\n",
    "        Nap = D.dot(Eps) \n",
    "        if i in range(20):\n",
    "            outnap = np.append(outnap,[[Nap[0],Nap[1],Nap[2]]],axis=0)\n",
    "        lnap = np.append(lnap,[Nap[0],Nap[1],Nap[2]])\n",
    "        NapM = np.matrix([[Nap[0],Nap[2]],[Nap[2],Nap[1]]])\n",
    "        \n",
    "        Sig,s = np.linalg.eig(NapM) \n",
    "        \n",
    "        now_sig = m.sqrt(Nap[0]**2-Nap[0]*Nap[1]+Nap[1]**2+3*Nap[2]**2)\n",
    "        if now_sig > max_sig:\n",
    "            max_sig = now_sig\n",
    "            max_sig_i = i\n",
    "        #now_sig = max(abs(Sig))\n",
    "        #if n_s > m_s:\n",
    "         #   m_s = n_s\n",
    "          #  m_s_i = i\n",
    "        #print('Модуль максимального главного напряжения ',max(abs(Sig)))\n",
    "        #print('Деформации в ',i,' элементе',Eps)\n",
    "        #print('Напряжения в ',i,' элементе',Nap)\n",
    "    print(max_sig)\n",
    "    a = Coord_nod[el_nod[max_sig_i,0],:]\n",
    "    b = Coord_nod[el_nod[max_sig_i,1],:]\n",
    "    c = Coord_nod[el_nod[max_sig_i,2],:]\n",
    "\n",
    "    plt.plot(Coord_nod[:,0],Coord_nod[:,1],'.')\n",
    "    plt.plot(b[0,0],b[0,1],'r.')\n",
    "    plt.plot(a[0,0],a[0,1],'r.')\n",
    "    plt.plot(c[0,0],c[0,1],'r.')\n",
    "    outnap = np.delete(outnap,0,axis = 0)\n",
    "\n",
    "    return outnap"
   ]
  },
  {
   "cell_type": "code",
   "execution_count": 152,
   "metadata": {},
   "outputs": [
    {
     "name": "stdout",
     "output_type": "stream",
     "text": [
      "3701764348645643.0\n"
     ]
    },
    {
     "data": {
      "text/plain": [
       "matrix([[ 1.15964304e+14, -2.09987516e+14, -3.76274102e+13],\n",
       "        [ 2.29839600e+15,  5.23915652e+14,  7.15580371e+13],\n",
       "        [ 1.61744172e+14, -6.45922925e+14,  3.83997259e+13],\n",
       "        [-2.95676626e+14, -1.70497740e+13, -7.12490985e+13],\n",
       "        [ 6.15408557e+14,  1.85569265e+14, -4.08544157e+13],\n",
       "        [-2.44823450e+14, -3.27875280e+14, -1.59193813e+14],\n",
       "        [ 6.42829114e+14,  1.39998825e+15, -4.73864886e+14],\n",
       "        [-3.95878736e+14, -3.08951584e+14,  2.11784557e+14],\n",
       "        [-6.55356661e+13, -9.46299949e+14,  2.93847637e+14],\n",
       "        [ 3.91164120e+14,  1.14318499e+14,  1.76332301e+14],\n",
       "        [ 1.97341708e+14,  4.42568882e+14,  1.41310149e+14],\n",
       "        [-1.38188312e+14,  2.91560099e+13,  6.52233948e+13],\n",
       "        [-6.15630277e+14, -5.29864573e+14,  3.38207020e+14],\n",
       "        [-5.76901761e+14, -2.54149426e+14,  1.58541726e+14],\n",
       "        [ 6.13535827e+13,  4.71100156e+13,  3.37468895e+13],\n",
       "        [ 1.26606015e+15,  4.65423101e+14, -2.45262936e+14],\n",
       "        [ 2.45274989e+14,  8.17583298e+14,  7.44381859e+13],\n",
       "        [ 1.47690706e+14,  5.31757096e+14,  1.64630749e+14],\n",
       "        [-9.94680737e+13,  1.12902506e+14,  1.65492840e+14],\n",
       "        [ 3.42993579e+14,  1.03956627e+15, -2.78218220e+14]])"
      ]
     },
     "execution_count": 152,
     "metadata": {},
     "output_type": "execute_result"
    },
    {
     "data": {
      "image/png": "[encoded data removed]",
      "text/plain": [
       "<Figure size 432x288 with 1 Axes>"
      ]
     },
     "metadata": {
      "needs_background": "light"
     },
     "output_type": "display_data"
    }
   ],
   "source": [
    "newnap = FEM1(el_nod1,Coord_nod1,D,eff,Num_nod1,Num_el1,lim)\n",
    "newnap"
   ]
  },
  {
   "cell_type": "code",
   "execution_count": 153,
   "metadata": {},
   "outputs": [],
   "source": [
    "for i in range(10):\n",
    "    oldnap[i,:] = oldnap[i,:]+newnap[i,:]\n",
    "for i in range(10,20):\n",
    "    for j in range(264,274):\n",
    "        oldnap[i,:] = oldnap[i,:]+newnap[i,:]"
   ]
  },
  {
   "cell_type": "code",
   "execution_count": 154,
   "metadata": {},
   "outputs": [
    {
     "data": {
      "text/plain": [
       "matrix([[ 1.15964304e+14, -2.09987516e+14, -3.76274102e+13],\n",
       "        [ 2.29839600e+15,  5.23915652e+14,  7.15580371e+13],\n",
       "        [ 1.61744172e+14, -6.45922925e+14,  3.83997259e+13],\n",
       "        ...,\n",
       "        [-1.01143973e+01, -3.48772321e-01,  7.04251803e-01],\n",
       "        [-9.62645143e+00,  8.96244259e-01,  1.10332782e+00],\n",
       "        [-1.03072282e+01,  1.27436041e-01,  4.46026142e-01]])"
      ]
     },
     "execution_count": 154,
     "metadata": {},
     "output_type": "execute_result"
    }
   ],
   "source": [
    "oldnap"
   ]
  },
  {
   "cell_type": "code",
   "execution_count": 155,
   "metadata": {},
   "outputs": [
    {
     "name": "stdout",
     "output_type": "stream",
     "text": [
      "1.1877436798364604e+16\n"
     ]
    },
    {
     "data": {
      "text/plain": [
       "[<matplotlib.lines.Line2D at 0x1b847f57220>]"
      ]
     },
     "execution_count": 155,
     "metadata": {},
     "output_type": "execute_result"
    },
    {
     "data": {
      "image/png": "[encoded data removed]",
      "text/plain": [
       "<Figure size 432x288 with 1 Axes>"
      ]
     },
     "metadata": {
      "needs_background": "light"
     },
     "output_type": "display_data"
    }
   ],
   "source": [
    "max_sig = -100\n",
    "for i in range(len(oldnap)):\n",
    "    NapM = np.matrix([[oldnap[i,0],oldnap[i,2]],[oldnap[i,2],oldnap[i,1]]])\n",
    "    Sig,s = np.linalg.eig(NapM) \n",
    "        \n",
    "    now_sig = m.sqrt(oldnap[i,0]**2-oldnap[i,0]*oldnap[i,1]+oldnap[i,1]**2+3*oldnap[i,2]**2)\n",
    "    if now_sig > max_sig:\n",
    "        max_sig = now_sig\n",
    "        max_sig_i = i\n",
    "print(max_sig)\n",
    "a = Coord_nod[el_nod[max_sig_i,0],:]\n",
    "b = Coord_nod[el_nod[max_sig_i,1],:]\n",
    "c = Coord_nod[el_nod[max_sig_i,2],:]\n",
    "\n",
    "plt.plot(Coord_nod[:,0],Coord_nod[:,1],'.')\n",
    "plt.plot(b[0,0],b[0,1],'r.')\n",
    "plt.plot(a[0,0],a[0,1],'r.')\n",
    "plt.plot(c[0,0],c[0,1],'r.')"
   ]
  },
  {
   "cell_type": "code",
   "execution_count": null,
   "metadata": {},
   "outputs": [],
   "source": []
  }
 ],
 "metadata": {
  "kernelspec": {
   "display_name": "Python 3",
   "language": "python",
   "name": "python3"
  },
  "language_info": {
   "codemirror_mode": {
    "name": "ipython",
    "version": 3
   },
   "file_extension": ".py",
   "mimetype": "text/x-python",
   "name": "python",
   "nbconvert_exporter": "python",
   "pygments_lexer": "ipython3",
   "version": "3.8.3"
  }
 },
 "nbformat": 4,
 "nbformat_minor": 4
}
