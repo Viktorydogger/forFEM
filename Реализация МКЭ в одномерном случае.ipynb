{
 "cells": [
  {
   "cell_type": "code",
   "execution_count": 44,
   "metadata": {},
   "outputs": [],
   "source": [
    "import pandas as pd\n",
    "import numpy as np\n",
    "import sympy as sp\n",
    "def Ma(n,x,b,A,f,u,c,d,t,s):\n",
    "    #число узлов, координаты узлов, элементная матрица, \n",
    "    #элементный вектор, глоб. матрица жесткости, правые части,решение, начало, \n",
    "    #конец, граничное условие\n",
    "    K=np.zeros((2,2))\n",
    "    m = n - 1\n",
    "    h = (d - c)/m\n",
    "    for i in range(n):\n",
    "        x[i] = c + (i - 1)*h\n",
    "    for i in range(n - 1):\n",
    "            K[0,0]  = K[1,1] = 1/h - h/3\n",
    "            K[1,0] = K[0,1] = -1/h - h/6\n",
    "            A[i,i] = A[i,i] + K[0,0]\n",
    "            A[i,i+1] = A[i,i+1] + K[0,1]\n",
    "            A[i+1,i] = A[i+1,i] + K[1,0]\n",
    "            A[i+1,i+1] = A[i+1,i+1] + K[1,1]\n",
    "            f[i] = f[i] + b[i,0]\n",
    "    A[s,s]=1\n",
    "    f[s] = t\n",
    "    for i in range(1,n):\n",
    "        if i != s:\n",
    "            A[s,i] = 0\n",
    "            f[i] = f[i] - A[s,i]*t\n",
    "    print(A,b)\n",
    "    \n",
    "    return Gauss(A,b)\n",
    "    "
   ]
  },
  {
   "cell_type": "code",
   "execution_count": 47,
   "metadata": {},
   "outputs": [],
   "source": [
    "#простой метод Гаусса\n",
    "def Gauss(A,b):\n",
    "        M = np.hstack((A, b)) # \"склейка\" матрицы коэффициентов при переменных и вектора свободных членов\n",
    "        n = M.shape[0] \n",
    "        for k in range(n): \n",
    "            # убираем нули с главной диагонали, если они есть\n",
    "            k0 = no0(M, k)\n",
    "            if k0 != k:\n",
    "                M[k0], M[k] = M[k].copy(), M[k0]   \n",
    "            if M[k, k] != 1:\n",
    "                M[k, :] *= 1 / M[k, k]\n",
    "            # приямой ход метода Гаусса\n",
    "            for r in range(k + 1, n):\n",
    "                M[r, :] -= M[k, :] * M[r, k]\n",
    "        #обратный ход метода Гаусса\n",
    "        for k in range(n - 1, 0, -1):\n",
    "            for r in range(k - 1, -1, -1):\n",
    "                if M[r, k]:\n",
    "                    M[r, :] -= M[k, :] * M[r, k]\n",
    "        if b.shape[1] > 1:\n",
    "            return np.hsplit(M,2)[1]\n",
    "        return  (M[:,n])"
   ]
  },
  {
   "cell_type": "code",
   "execution_count": 48,
   "metadata": {},
   "outputs": [],
   "source": [
    "# проверяем, есть ли на главной диагонали нули\n",
    "def no0(M, k):\n",
    "    n =  M.shape[0]\n",
    "    while k < n and not M[k, k]:\n",
    "        k += 1\n",
    "    return k"
   ]
  },
  {
   "cell_type": "code",
   "execution_count": 49,
   "metadata": {},
   "outputs": [
    {
     "name": "stdout",
     "output_type": "stream",
     "text": [
      "[[ 1.43752013 -0.34863124  0.8         0.8         0.8         0.8\n",
      "   0.8         0.8         0.8         0.8       ]\n",
      " [-0.34863124  2.07504026 -0.34863124  0.8         0.8         0.8\n",
      "   0.8         0.8         0.8         0.8       ]\n",
      " [ 0.8        -0.34863124  2.07504026 -0.34863124  0.8         0.8\n",
      "   0.8         0.8         0.8         0.8       ]\n",
      " [ 0.8         0.8        -0.34863124  2.07504026 -0.34863124  0.8\n",
      "   0.8         0.8         0.8         0.8       ]\n",
      " [ 0.8         0.          0.          0.          1.          0.\n",
      "   0.          0.          0.          0.        ]\n",
      " [ 0.8         0.8         0.8         0.8        -0.34863124  2.07504026\n",
      "  -0.34863124  0.8         0.8         0.8       ]\n",
      " [ 0.8         0.8         0.8         0.8         0.8        -0.34863124\n",
      "   2.07504026 -0.34863124  0.8         0.8       ]\n",
      " [ 0.8         0.8         0.8         0.8         0.8         0.8\n",
      "  -0.34863124  2.07504026 -0.34863124  0.8       ]\n",
      " [ 0.8         0.8         0.8         0.8         0.8         0.8\n",
      "   0.8        -0.34863124  2.07504026 -0.34863124]\n",
      " [ 0.8         0.8         0.8         0.8         0.8         0.8\n",
      "   0.8         0.8        -0.34863124  1.43752013]] [[3]\n",
      " [4]\n",
      " [3]\n",
      " [4]\n",
      " [3]\n",
      " [4]\n",
      " [3]\n",
      " [4]\n",
      " [3]\n",
      " [4]]\n"
     ]
    },
    {
     "data": {
      "text/plain": [
       "array([ -25.72122726,   -9.9069329 ,   18.22243175,   34.5037927 ,\n",
       "         23.57698181,  -72.89030939, -100.99059227,  -34.84547125,\n",
       "         65.80872559,  112.26558559])"
      ]
     },
     "execution_count": 49,
     "metadata": {},
     "output_type": "execute_result"
    }
   ],
   "source": [
    "n = 10\n",
    "x = [1,2,3,4,5,6,7,8,9,10]\n",
    "b = np.transpose([[3,4,3,4,3,4,3,4,3,4]])\n",
    "A = np.ones((n,n))*0.8\n",
    "f = [1,2,3,1,2,3,1,2,3,30]\n",
    "u = [1,1,1,1,1,1,1,1,1,1]\n",
    "c = 0.9\n",
    "d = 10.1\n",
    "s = 4\n",
    "t = 10\n",
    "Ma(n,x,b,A,f,u,c,d,t,s)"
   ]
  },
  {
   "cell_type": "code",
   "execution_count": null,
   "metadata": {},
   "outputs": [],
   "source": []
  }
 ],
 "metadata": {
  "kernelspec": {
   "display_name": "Python 3",
   "language": "python",
   "name": "python3"
  },
  "language_info": {
   "codemirror_mode": {
    "name": "ipython",
    "version": 3
   },
   "file_extension": ".py",
   "mimetype": "text/x-python",
   "name": "python",
   "nbconvert_exporter": "python",
   "pygments_lexer": "ipython3",
   "version": "3.8.3"
  }
 },
 "nbformat": 4,
 "nbformat_minor": 4
}
