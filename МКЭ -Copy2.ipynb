{
 "cells": [
  {
   "cell_type": "markdown",
   "metadata": {},
   "source": [
    "Ввод данных из файла"
   ]
  },
  {
   "cell_type": "code",
   "execution_count": 1,
   "metadata": {},
   "outputs": [],
   "source": [
    "import collections as col\n",
    "import itertools as it\n",
    "import scipy.sparse as sparse\n",
    "import sympy as sp\n",
    "import numpy as np\n",
    "import matplotlib.pyplot as plt\n",
    "import math as m\n",
    "import triangle as tr"
   ]
  },
  {
   "cell_type": "code",
   "execution_count": 2,
   "metadata": {},
   "outputs": [
    {
     "name": "stdout",
     "output_type": "stream",
     "text": [
      "<class 'numpy.matrix'>\n"
     ]
    }
   ],
   "source": [
    "# путь к файлу\n",
    "f = open(\"newex1\", \"r\")\n",
    "all_file = f.readlines()\n",
    "# Юнг, Пуассон\n",
    "mu = float(all_file[0].split(' ')[0]) \n",
    "E = float(all_file[0].split(' ')[1])\n",
    "# количество узлов\n",
    "Num_nod = int(all_file[1])\n",
    "#список узлов с координатами\n",
    "Coord_nod = np.matrix([-1,-1])\n",
    "for i in range(2,Num_nod + 2):\n",
    "    this_line = all_file[i].split(' ')\n",
    "    Coord_nod = np.append(Coord_nod,[[float(this_line[0]),float(this_line[1])]],axis = 0)\n",
    "Coord_nod = np.delete(Coord_nod,0,axis = 0)\n",
    "# количество конечных элементов\n",
    "Num_el = int(all_file[Num_nod+2])\n",
    "#список элементов с соответсвующими узлами\n",
    "el_nod = np.matrix([-1,-1,-1])\n",
    "for i in range(Num_nod+3,Num_nod+3+Num_el):\n",
    "    this_line = all_file[i].split(' ')\n",
    "    el_nod = np.append(el_nod,[[int(this_line[0]),int(this_line[1]),int(this_line[2])]],axis = 0)\n",
    "el_nod = np.delete(el_nod,0,axis = 0)\n",
    "print(type(el_nod))\n",
    "# ограничения движения \n",
    "lim_in_nod = int(all_file[Num_nod+3+Num_el])\n",
    "lim = np.matrix([-1,-1])\n",
    "for i in range(Num_nod+4+Num_el,Num_nod+4+Num_el+lim_in_nod):\n",
    "    this_line = all_file[i].split(' ')\n",
    "    lim = np.append(lim,[[float(this_line[0]),float(this_line[1])]],axis = 0)\n",
    "lim = np.delete(lim,0,axis = 0)\n",
    "# количество узлов, в которых приложены усилия\n",
    "eff_in_nod = int(all_file[Num_nod+4+Num_el+lim_in_nod])\n",
    "eff = np.matrix([-1,-1,-1])\n",
    "for i in range(Num_nod+5+Num_el+lim_in_nod,Num_nod+5+Num_el+lim_in_nod+eff_in_nod):\n",
    "    this_line = all_file[i].split(' ')\n",
    "    eff = np.append(eff,[[float(this_line[0]),float(this_line[1]),float(this_line[2])]],axis = 0)\n",
    "eff = np.delete(eff,0,axis = 0)\n",
    "\n",
    "\n",
    "\n"
   ]
  },
  {
   "cell_type": "code",
   "execution_count": 3,
   "metadata": {},
   "outputs": [
    {
     "name": "stdout",
     "output_type": "stream",
     "text": [
      "[[2197.8021978   659.34065934    0.        ]\n",
      " [ 659.34065934 2197.8021978     0.        ]\n",
      " [   0.            0.          769.23076923]]\n"
     ]
    }
   ],
   "source": [
    "# ищем матрицу D\n",
    "D = E/(1 - mu*mu)*np.array([[1,mu,0],[mu,1,0],[0,0, (1-mu)/2]])\n",
    "#D = E*(1-mu)/((1+mu)*(1-2*mu))*np.array([[1,mu/(1-mu),0],[mu/(1-mu),1,0],[0,0,(1-2*mu)/(2*(1-mu))]])\n",
    "print(D)"
   ]
  },
  {
   "cell_type": "code",
   "execution_count": 4,
   "metadata": {},
   "outputs": [],
   "source": [
    "# убираем сингулярность\n",
    "def K_ok(A,lim):\n",
    "    print(lim)\n",
    "    for i in range(len(lim)):\n",
    "        for j in range(len(A)):\n",
    "            if lim[i,0] == j:\n",
    "                if lim[i,1] == 1:\n",
    "                    ii = int(lim[i,0]*2)\n",
    "                    for k in range(len(A)):\n",
    "                        if j == k:\n",
    "                            A[ii,j] = 1\n",
    "                        else:\n",
    "                            A[ii,j] = 0\n",
    "                            A[j,ii] = 0\n",
    "                if lim[i,1] == 2:\n",
    "                    ii = int(lim[i,0]*2+1)\n",
    "                    for k in range(len(A)):\n",
    "                        if j == k:\n",
    "                            A[ii,j] = 1\n",
    "                        else:\n",
    "                            A[ii,j] = 0\n",
    "                            A[j,ii] = 0\n",
    "                if lim[i,1] == 3:\n",
    "                    ii1 = int(lim[i,0]*2)\n",
    "                    ii0 = int(lim[i,0]*2+1)\n",
    "                    \n",
    "                    for k in range(len(A)):\n",
    "                            A[ii1,k] = 0\n",
    "                            A[k,ii1] = 0\n",
    "                            A[ii0,k] = 0\n",
    "                            A[k,ii0] = 0\n",
    "                    A[ii1,ii1] = 1\n",
    "                    A[ii0,ii0] = 1\n",
    "    return A"
   ]
  },
  {
   "cell_type": "code",
   "execution_count": 5,
   "metadata": {},
   "outputs": [],
   "source": [
    "#функция которой дают номера узлов, соответствующих элементу,\n",
    "# и матрицу с координатами, а она считает определитель*2\n",
    "def Det2(xi,yi,xj,yj,xk,yk):\n",
    "    return (xj*(yk - yi) + xi*(yj - yk) + xk*(yi - yj))"
   ]
  },
  {
   "cell_type": "code",
   "execution_count": 6,
   "metadata": {},
   "outputs": [],
   "source": [
    "def make_B(num,el_nod,Coord_nod,D,eff,lim):\n",
    "    x,y,z = sp.symbols('x, y, z')\n",
    "    ui,uj,uk = sp.var('ui uj uk')\n",
    "    vi,vj,vk = sp.var('vi vj vk')\n",
    "    wi,wj,wk = sp.var('wi wj wk')\n",
    "    n = el_nod[num,0]\n",
    "    m = el_nod[num,1]\n",
    "    t = el_nod[num,2]\n",
    "    # для конкретного элемента ищем координаты узлов\n",
    "    xi = Coord_nod[n,0]\n",
    "    yi = Coord_nod[n,1]\n",
    "    xj = Coord_nod[m,0]\n",
    "    yj = Coord_nod[m,1]\n",
    "    xk = Coord_nod[t,0]\n",
    "    yk = Coord_nod[t,1]\n",
    "    # пользуемся формулами со слайда 29\n",
    "    Det = Det2(xi,yi,xj,yj,xk,yk)\n",
    "    ai = (xj*yk - xk*yj)/Det\n",
    "    aj = (xk*yi - xi*yk)/Det\n",
    "    ak = (xi*yj - xj*yi)/Det\n",
    "    bi = (yj - yk)/Det\n",
    "    bj = (yk - yi)/Det\n",
    "    bk = (yi - yj)/Det\n",
    "    ci = (xk - xj)/Det\n",
    "    cj = (xi - xk)/Det\n",
    "    ck = (xj - xi)/Det\n",
    "    \n",
    "    # собираем матрицу B\n",
    "    Bi =[[bi, 0],[0, ci],[ci, bi]]\n",
    "    Bj =[[bj, 0],[0, cj],[cj, bj]] \n",
    "    Bk =[[bk, 0],[0, ck],[ck, bk]] \n",
    "    B0 = np.hstack([Bi, Bj, Bk])\n",
    "    \n",
    "    return B0"
   ]
  },
  {
   "cell_type": "markdown",
   "metadata": {},
   "source": [
    "ВАЖНО!"
   ]
  },
  {
   "cell_type": "code",
   "execution_count": 7,
   "metadata": {},
   "outputs": [],
   "source": [
    "def make_K(num,el_nod,Coord_nod,D,eff_final,lim):\n",
    "    Bi = make_B(num,el_nod,Coord_nod,D,eff_final,lim)\n",
    "    n = el_nod[num,0]\n",
    "    m = el_nod[num,1]\n",
    "    t = el_nod[num,2]\n",
    "    xi = Coord_nod[n,0]\n",
    "    yi = Coord_nod[n,1]\n",
    "    xj = Coord_nod[m,0]\n",
    "    yj = Coord_nod[m,1]\n",
    "    xk = Coord_nod[t,0]\n",
    "    yk = Coord_nod[t,1]\n",
    "\n",
    "    return (Det2(xi,yi,xj,yj,xk,yk)/2)*Bi.T.dot(D).dot(Bi)"
   ]
  },
  {
   "cell_type": "code",
   "execution_count": 8,
   "metadata": {},
   "outputs": [],
   "source": [
    "#make_K(0,el_nod,Coord_nod,D,eff) "
   ]
  },
  {
   "cell_type": "code",
   "execution_count": 9,
   "metadata": {},
   "outputs": [],
   "source": [
    "# глобальная K \n",
    "def sum_K(A,B,ind,num):\n",
    "    a = len(A)\n",
    "    b = len(B)\n",
    "    for i in range(ind.shape[1]):\n",
    "        for j in range(ind.shape[1]):\n",
    "            ii = ind[0,i]\n",
    "            jj = ind[0,j]\n",
    "            A[ii*2:ii*2+2,jj*2:jj*2+2] += B[i*2:i*2+2,j*2:j*2+2]\n",
    "    return A\n",
    "        "
   ]
  },
  {
   "cell_type": "markdown",
   "metadata": {},
   "source": [
    "с лентой я пока тоже ничего не делаю"
   ]
  },
  {
   "cell_type": "code",
   "execution_count": 10,
   "metadata": {},
   "outputs": [],
   "source": [
    "# хранение полуленты\n",
    "def band(A):\n",
    "    n = len(A)\n",
    "    B = np.zeros((n,6))\n",
    "    A = np.block([A, np.zeros((n,5))])\n",
    "    for i in range(n):\n",
    "        B[i,:] = A[i,i:6+i]\n",
    "    return B"
   ]
  },
  {
   "cell_type": "code",
   "execution_count": 11,
   "metadata": {},
   "outputs": [],
   "source": [
    "# распаковка полуленты\n",
    "def band_out(A):\n",
    "    n = len(A)\n",
    "    A = np.block([[A, np.zeros((n,n))]])\n",
    "    B = np.zeros((n,n*2))\n",
    "    for i in range(n):\n",
    "        for j in range(n):\n",
    "            B[i,i+j] = A[i,j]\n",
    "            B[i,i-j] = B[i-j,i]\n",
    "    \n",
    "        \n",
    "    return B[:,:n]"
   ]
  },
  {
   "cell_type": "code",
   "execution_count": 12,
   "metadata": {},
   "outputs": [],
   "source": [
    "# генерируем вектор правых частей\n",
    "def right(eff,num_nod):\n",
    "    a = np.zeros(Num_nod*2)\n",
    "    for i in range(len(eff)):\n",
    "        for j in range(Num_nod):\n",
    "            if eff[i,0] == j:\n",
    "                a[j*2] = eff[i,1]\n",
    "                a[j*2+1] = eff[i,2]\n",
    "            \n",
    "    return a"
   ]
  },
  {
   "cell_type": "code",
   "execution_count": 13,
   "metadata": {},
   "outputs": [],
   "source": [
    "def FEM(el_nod,Coord_nod,D,eff,Num_nod,Num_el,lim):\n",
    "    rig = right(eff,Num_nod)\n",
    "    K0 = np.zeros((Num_nod*2,Num_nod*2))\n",
    "    for i in range(0,Num_el):\n",
    "        ind = el_nod[i,:]\n",
    "        K0 = sum_K(K0,make_K(i,el_nod,Coord_nod,D,eff,lim),ind[0],i)\n",
    "    K0 = K_ok(K0,lim)\n",
    "    print(K0,np.linalg.det(K0))\n",
    "    U = np.linalg.solve(K0,rig.T)\n",
    "    \n",
    "    #достать перемещения можно где-то здесь\n",
    "    max_sig = 0\n",
    "    max_sig_i = -1\n",
    "    m_s=0\n",
    "    m_s_i=-1\n",
    "    lnap = np.matrix([-1,-1,-1])\n",
    "    for i in range(Num_el):\n",
    "        B = make_B(i,el_nod,Coord_nod,D,eff,lim)\n",
    "        Ui = np.zeros((6))\n",
    "        Ui[0] = U[el_nod[i,0]*2]\n",
    "        Ui[1] = U[el_nod[i,0]*2+1]\n",
    "        Ui[2] = U[el_nod[i,1]*2]\n",
    "        Ui[3] = U[el_nod[i,1]*2+1]  \n",
    "        Ui[4] = U[el_nod[i,2]*2]\n",
    "        Ui[5] = U[el_nod[i,2]*2+1] \n",
    "        #деформации (эпсилон)    \n",
    "        Eps = B.dot(Ui)\n",
    "        \n",
    "        # напряжения(сигма)\n",
    "        Nap = D.dot(Eps) \n",
    "        lnap = np.append(lnap,[[Nap[0],Nap[1],Nap[2]]],axis=0)\n",
    "        NapM = np.matrix([[Nap[0],Nap[2]],[Nap[2],Nap[1]]])\n",
    "        \n",
    "        Sig,s = np.linalg.eig(NapM) \n",
    "        \n",
    "        now_sig = m.sqrt(Nap[0]**2-Nap[0]*Nap[1]+Nap[1]**2+3*Nap[2]**2)\n",
    "        \n",
    "        if now_sig > max_sig:\n",
    "            max_sig = now_sig\n",
    "            max_sig_i = i\n",
    "        \n",
    "        #now_sig = max(abs(Sig))\n",
    "        #if n_s > m_s:\n",
    "         #   m_s = n_s\n",
    "          #  m_s_i = i\n",
    "        #print('Модуль максимального главного напряжения ',max(abs(Sig)))\n",
    "        #print('Деформации в ',i,' элементе',Eps)\n",
    "        #print('Напряжения в ',i,' элементе',Nap)\n",
    "    print(max_sig)\n",
    "    a = Coord_nod[el_nod[max_sig_i,0],:]\n",
    "    b = Coord_nod[el_nod[max_sig_i,1],:]\n",
    "    c = Coord_nod[el_nod[max_sig_i,2],:]\n",
    "    \n",
    "    for i in range(len(Coord_nod)):\n",
    "\n",
    "        if Coord_nod[i,1]>=0: plt.plot(Coord_nod[i,0],Coord_nod[i,1],'b.')\n",
    "    plt.grid()\n",
    "    plt.xlabel('x')\n",
    "    plt.ylabel('y')\n",
    "    plt.plot(b[0,0],b[0,1],'r.')\n",
    "    plt.plot(a[0,0],a[0,1],'r.')\n",
    "    plt.plot(c[0,0],c[0,1],'r.')\n",
    "    \n",
    "    plt.axis('equal')\n",
    "    print(a,b,c)\n",
    "    lnap = np.delete(lnap,0,axis = 0)\n",
    "    return U[100*2:120*2],lnap,U\n"
   ]
  },
  {
   "cell_type": "code",
   "execution_count": 14,
   "metadata": {},
   "outputs": [],
   "source": [
    "f.close()"
   ]
  },
  {
   "cell_type": "code",
   "execution_count": null,
   "metadata": {},
   "outputs": [],
   "source": []
  },
  {
   "cell_type": "markdown",
   "metadata": {},
   "source": [
    "рассмотрим две подобласти для локального решения задачи: круглую и квадратную\n",
    "как задавать их?\n",
    "скорее всего, неравенствами"
   ]
  },
  {
   "cell_type": "code",
   "execution_count": 15,
   "metadata": {},
   "outputs": [],
   "source": [
    "def circleLoc(o,r):\n",
    "    ram = []\n",
    "    coord = [0,0]\n",
    "    for i in range(len(Coord_nod)):\n",
    "        if m.sqrt((o[1] - Coord_nod[i,1])**2+(o[0] - Coord_nod[i,0])**2)<=r :\n",
    "            \n",
    "               \n",
    "            plt.plot(Coord_nod[i,0],Coord_nod[i,1],'*b')\n",
    "            \n",
    "            coord = np.vstack([coord,Coord_nod[i,:]])\n",
    "            ram = np.append(ram,i)\n",
    "            print(i)\n",
    "    coord = np.delete(coord,0,axis=0)\n",
    "    return np.array(ram),np.array(coord)"
   ]
  },
  {
   "cell_type": "code",
   "execution_count": 16,
   "metadata": {},
   "outputs": [
    {
     "name": "stdout",
     "output_type": "stream",
     "text": [
      "0\n",
      "1\n",
      "2\n",
      "3\n",
      "4\n",
      "5\n",
      "6\n",
      "7\n",
      "8\n",
      "9\n",
      "10\n",
      "11\n",
      "12\n",
      "13\n",
      "14\n",
      "15\n",
      "16\n",
      "17\n",
      "18\n",
      "19\n",
      "100\n",
      "101\n",
      "102\n",
      "103\n",
      "104\n",
      "105\n",
      "106\n",
      "107\n",
      "108\n",
      "109\n",
      "110\n",
      "111\n",
      "112\n",
      "113\n",
      "114\n",
      "115\n",
      "116\n",
      "117\n",
      "118\n",
      "119\n"
     ]
    },
    {
     "data": {
      "image/png": "[encoded data removed]",
      "text/plain": [
       "<Figure size 432x288 with 1 Axes>"
      ]
     },
     "metadata": {
      "needs_background": "light"
     },
     "output_type": "display_data"
    }
   ],
   "source": [
    "s,pts = circleLoc([0,0],0.1)"
   ]
  },
  {
   "cell_type": "code",
   "execution_count": 17,
   "metadata": {},
   "outputs": [
    {
     "name": "stdout",
     "output_type": "stream",
     "text": [
      "[]\n",
      "[[2863.96625727  600.65917669 -403.52814076 ...    0.\n",
      "     0.            0.        ]\n",
      " [ 600.65917669 5674.07167351  152.8586146  ...    0.\n",
      "     0.            0.        ]\n",
      " [-403.52814076  152.8586146  2827.70677353 ...    0.\n",
      "     0.            0.        ]\n",
      " ...\n",
      " [   0.            0.            0.         ... 7187.95950661\n",
      "     0.            0.        ]\n",
      " [   0.            0.            0.         ...    0.\n",
      "  5115.7287207   -97.6550946 ]\n",
      " [   0.            0.            0.         ...    0.\n",
      "   -97.6550946  5116.54641753]] inf\n",
      "28.951272710388775\n",
      "[[0.03281103 0.06439527]] [[0.01545085 0.04755283]] [[0.02938926 0.04045085]]\n"
     ]
    },
    {
     "name": "stderr",
     "output_type": "stream",
     "text": [
      "C:\\Users\\HP\\anaconda3\\lib\\site-packages\\numpy\\linalg\\linalg.py:2116: RuntimeWarning: overflow encountered in det\n",
      "  r = _umath_linalg.det(a, signature=signature)\n"
     ]
    },
    {
     "data": {
      "image/png": "[encoded data removed]",
      "text/plain": [
       "<Figure size 432x288 with 1 Axes>"
      ]
     },
     "metadata": {
      "needs_background": "light"
     },
     "output_type": "display_data"
    }
   ],
   "source": [
    "new_lim1,oldnap,finalU = FEM(el_nod,Coord_nod,D,eff,Num_nod,Num_el,lim)\n",
    "new_lim1= np.matrix(new_lim1)\n"
   ]
  },
  {
   "cell_type": "markdown",
   "metadata": {},
   "source": [
    "делаем новую сетку\n"
   ]
  },
  {
   "cell_type": "code",
   "execution_count": 18,
   "metadata": {},
   "outputs": [
    {
     "name": "stdout",
     "output_type": "stream",
     "text": [
      "[[  3   2 113]]\n",
      "[[114 113   2]]\n",
      "[[  2   1 115]]\n",
      "[[  2 115 114]]\n"
     ]
    },
    {
     "data": {
      "image/png": "[encoded data removed]",
      "text/plain": [
       "<Figure size 432x216 with 2 Axes>"
      ]
     },
     "metadata": {
      "needs_background": "light"
     },
     "output_type": "display_data"
    }
   ],
   "source": [
    "\n",
    "seg = np.vstack([np.array([[i,i+1] for i in range(19)]),[19,0],[20,26],[27,20],[26,33],[33,22],[22,29],[29,36],[36,23],[23,30],[30,37],[37,25],[25,32],[32,39],[39,31],[34,27],[34,21],[21,28],[28,35],[35,24],[38,31],[38,24]])\n",
    "A = dict(vertices=pts,segments = seg,holes = [[0,0]])\n",
    "B = tr.triangulate(A,'qpa0.0001')\n",
    "tr.compare(plt, A, B)\n",
    "#plt.xlim([-0.06,0.06])\n",
    "#plt.ylim([-0.06,0.06])\n",
    "#plt.grid()\n",
    "#plt.xlabel('x')\n",
    "#plt.ylabel('y')\n",
    "\n",
    "#plt.show()\n",
    "Coord_nod1 = np.matrix(B['vertices'])\n",
    "Num_nod1 = len(B['vertices'])\n",
    "el_nod1 = np.matrix(B['triangles'])\n",
    "\n",
    "Num_el1 = len(B['triangles'])\n",
    "for i in el_nod1:\n",
    "    if np.any(i == 2): print(i)"
   ]
  },
  {
   "cell_type": "code",
   "execution_count": 19,
   "metadata": {},
   "outputs": [],
   "source": [
    "def no0(M, k):\n",
    "    n =  M.shape[0]\n",
    "    while k < n and not M[k, k]:\n",
    "        k += 1\n",
    "    return k\n"
   ]
  },
  {
   "cell_type": "code",
   "execution_count": 20,
   "metadata": {},
   "outputs": [],
   "source": [
    "def G(A,b):\n",
    "        M = np.hstack((A, b)) # \"склейка\" матрицы коэффициентов при переменных и вектора свободных членов\n",
    "        n = M.shape[0] \n",
    "        for k in range(n): \n",
    "            # убираем нули с главной диагонали, если они есть\n",
    "            k0 = no0(M, k)\n",
    "            if k0 != k:\n",
    "                M[k0], M[k] = M[k].copy(), M[k0]   \n",
    "            if M[k, k] != 1:\n",
    "                M[k, :] *= 1 / M[k, k]\n",
    "            # приямой ход метода Гаусса\n",
    "            for r in range(k + 1, n):\n",
    "                M[r, :] -= M[k, :] * M[r, k]\n",
    "        #обратный ход метода Гаусса\n",
    "        for k in range(n - 1, 0, -1):\n",
    "            for r in range(k - 1, -1, -1):\n",
    "                if M[r, k]:\n",
    "                    M[r, :] -= M[k, :] * M[r, k]\n",
    "        if b.shape[1] > 1:\n",
    "            return np.hsplit(M,2)[1]\n",
    "        return  (M[:,n])"
   ]
  },
  {
   "cell_type": "code",
   "execution_count": 21,
   "metadata": {},
   "outputs": [],
   "source": [
    "# умножение матрицы на матрицу\n",
    "def d(A,B):\n",
    "    \n",
    "    ans = np.zeros((A.shape[0],B.shape[1]))\n",
    "    for i in range(A.shape[0]):\n",
    "        for j in range(B.shape[1]):\n",
    "            for k in range(B.shape[0]):\n",
    "                ans[i,j] += A[i,k] * B[k,j]\n",
    "    return ans"
   ]
  },
  {
   "cell_type": "code",
   "execution_count": 22,
   "metadata": {},
   "outputs": [],
   "source": [
    "def null(A, eps=1e-15):\n",
    "    u, s, vh = np.linalg.svd(A)\n",
    "    null_space = np.compress(s <= eps, vh, axis=0)\n",
    "    return null_space.T"
   ]
  },
  {
   "cell_type": "code",
   "execution_count": 23,
   "metadata": {},
   "outputs": [],
   "source": [
    "def FEM1(el_nod,Coord_nod,D,eff,Num_nod,Num_el,lim):\n",
    "\n",
    "    K0 = np.zeros((Num_nod*2,Num_nod*2))\n",
    "    for i in range(0,Num_el):\n",
    "        ind = el_nod[i,:]\n",
    "        K0 = sum_K(K0,make_K(i,el_nod,Coord_nod,D,eff,lim),ind[0],i)\n",
    "    \n",
    "    \n",
    "    rig1 = np.vstack([np.zeros((40,1)),np.array(lim.T),np.zeros((246-80,1))])\n",
    "    \n",
    "    K1 = K0\n",
    "    for j in range(len(rig1)):\n",
    "        if rig1[j] != 0:\n",
    "            for i in range(len(K0)):\n",
    "                K0[j,i] = 0\n",
    "            K0[j,j] = 1 \n",
    "        \n",
    "   # rig = d(K1,rig1)\n",
    "    \n",
    "   # print(rig)\n",
    "    #print(np.all(rig == rig1))\n",
    "    K0 = K_ok(K0,lim)\n",
    "    print(K0,np.linalg.det(K0))\n",
    "    #print(np.logical_or(sp.linsolve(K0,-rig)))\n",
    "    U = np.linalg.solve(K0,-rig1)\n",
    "    \n",
    "    \n",
    "    \n",
    "   \n",
    "    \n",
    "    max_sig = 0\n",
    "    max_sig_i = -1\n",
    "    m_s=0\n",
    "    m_s_i=-1\n",
    "    \n",
    "    for i in range(Num_el):\n",
    "        B = make_B(i,el_nod,Coord_nod,D,eff,lim)\n",
    "        Ui = np.zeros((6))\n",
    "        Ui[0] = U[0,el_nod[i,0]*2]\n",
    "        Ui[1] = U[el_nod[i,0]*2+1]\n",
    "        Ui[2] = U[el_nod[i,1]*2]\n",
    "        Ui[3] = U[el_nod[i,1]*2+1]  \n",
    "        Ui[4] = U[el_nod[i,2]*2]\n",
    "        Ui[5] = U[el_nod[i,2]*2+1] \n",
    "        #деформации (эпсилон)    \n",
    "        Eps = B.dot(Ui)\n",
    "        \n",
    "        # напряжения(сигма)\n",
    "        #AAAAAAAAAAAAAA НЕ ТО\n",
    "        Nap = D.dot(Eps) \n",
    "        \n",
    "        NapM = np.matrix([[Nap[0],Nap[2]],[Nap[2],Nap[1]]])\n",
    "        \n",
    "        Sig,s = np.linalg.eig(NapM) \n",
    "        \n",
    "        now_sig = m.sqrt(Nap[0]**2-Nap[0]*Nap[1]+Nap[1]**2+3*Nap[2]**2)\n",
    "        \n",
    "        if now_sig > max_sig :#and now_sig < 10**10:\n",
    "            max_sig = now_sig\n",
    "            max_sig_i = i\n",
    "        \n",
    "        #now_sig = max(abs(Sig))\n",
    "        #if n_s > m_s:\n",
    "         #   m_s = n_s\n",
    "          #  m_s_i = i\n",
    "        #print('Модуль максимального главного напряжения ',max(abs(Sig)))\n",
    "        #print('Деформации в ',i,' элементе',Eps)\n",
    "        #print('Напряжения в ',i,' элементе',Nap)\n",
    "    print(max_sig)\n",
    "    a = Coord_nod[el_nod[max_sig_i,0],:]\n",
    "    b = Coord_nod[el_nod[max_sig_i,1],:]\n",
    "    c = Coord_nod[el_nod[max_sig_i,2],:]\n",
    "    \n",
    "    for i in range(len(Coord_nod)):\n",
    "\n",
    "        if Coord_nod[i,1]>=0: plt.plot(Coord_nod[i,0],Coord_nod[i,1],'b.')\n",
    "    plt.grid()\n",
    "    plt.xlabel('x')\n",
    "    plt.ylabel('y')\n",
    "    plt.plot(b[0,0],b[0,1],'r.')\n",
    "    plt.plot(a[0,0],a[0,1],'r.')\n",
    "    plt.plot(c[0,0],c[0,1],'r.')\n",
    "    plt.axis('equal')\n",
    "    return U[:40]"
   ]
  },
  {
   "cell_type": "code",
   "execution_count": 24,
   "metadata": {},
   "outputs": [
    {
     "name": "stdout",
     "output_type": "stream",
     "text": [
      "[[ 5.25441580e+10 -1.60699165e+11  6.28642782e+10 -1.46494738e+11\n",
      "   3.49865207e+10 -1.60699165e+11  2.46664005e+10 -1.46494738e+11\n",
      "   5.74386699e+10 -1.29796433e+11  3.00920088e+10 -1.29796433e+11\n",
      "   4.63440416e+10 -1.59751048e+11  5.54214525e+10 -1.55125877e+11\n",
      "   6.00466244e+10 -1.40891061e+11  3.21092262e+10 -1.55125877e+11\n",
      "   2.74840543e+10 -1.40891061e+11  4.67903141e+10 -1.24370824e+11\n",
      "   3.62816540e+10 -1.28782204e+11  4.13766923e+10 -1.58551087e+11\n",
      "   5.73703979e+10 -1.50401887e+11  5.73703979e+10 -1.36537640e+11\n",
      "   3.01602808e+10 -1.50401887e+11  3.01602808e+10 -1.36537640e+11\n",
      "   5.12490247e+10 -1.28782204e+11  4.13766923e+10 -1.28388440e+11]]\n",
      "[[3193.69130322  -30.40855295  -66.46560889 ...    0.\n",
      "     0.            0.        ]\n",
      " [ -30.40855295 2964.09851341 -174.29946473 ...    0.\n",
      "     0.            0.        ]\n",
      " [ -66.46560889 -174.29946473 2916.48349725 ...    0.\n",
      "     0.            0.        ]\n",
      " ...\n",
      " [   0.            0.            0.         ... 5019.54480483\n",
      "   617.1451673  -634.70732851]\n",
      " [   0.            0.            0.         ...  617.1451673\n",
      "  5993.5653077   496.85557674]\n",
      " [   0.            0.            0.         ... -634.70732851\n",
      "   496.85557674 5927.57909178]] inf\n"
     ]
    },
    {
     "name": "stderr",
     "output_type": "stream",
     "text": [
      "C:\\Users\\HP\\anaconda3\\lib\\site-packages\\numpy\\linalg\\linalg.py:2116: RuntimeWarning: overflow encountered in det\n",
      "  r = _umath_linalg.det(a, signature=signature)\n"
     ]
    },
    {
     "ename": "IndexError",
     "evalue": "index 102 is out of bounds for axis 1 with size 1",
     "output_type": "error",
     "traceback": [
      "\u001b[1;31m---------------------------------------------------------------------------\u001b[0m",
      "\u001b[1;31mIndexError\u001b[0m                                Traceback (most recent call last)",
      "\u001b[1;32m<ipython-input-24-0809cd8cf794>\u001b[0m in \u001b[0;36m<module>\u001b[1;34m\u001b[0m\n\u001b[1;32m----> 1\u001b[1;33m \u001b[0mnewU\u001b[0m \u001b[1;33m=\u001b[0m \u001b[0mFEM1\u001b[0m\u001b[1;33m(\u001b[0m\u001b[0mel_nod1\u001b[0m\u001b[1;33m,\u001b[0m\u001b[0mCoord_nod1\u001b[0m\u001b[1;33m,\u001b[0m\u001b[0mD\u001b[0m\u001b[1;33m,\u001b[0m\u001b[0meff\u001b[0m\u001b[1;33m,\u001b[0m\u001b[0mNum_nod1\u001b[0m\u001b[1;33m,\u001b[0m\u001b[0mNum_el1\u001b[0m\u001b[1;33m,\u001b[0m\u001b[0mnew_lim1\u001b[0m\u001b[1;33m)\u001b[0m\u001b[1;33m\u001b[0m\u001b[1;33m\u001b[0m\u001b[0m\n\u001b[0m",
      "\u001b[1;32m<ipython-input-23-6fe8fed0e96c>\u001b[0m in \u001b[0;36mFEM1\u001b[1;34m(el_nod, Coord_nod, D, eff, Num_nod, Num_el, lim)\u001b[0m\n\u001b[0;32m     37\u001b[0m         \u001b[0mB\u001b[0m \u001b[1;33m=\u001b[0m \u001b[0mmake_B\u001b[0m\u001b[1;33m(\u001b[0m\u001b[0mi\u001b[0m\u001b[1;33m,\u001b[0m\u001b[0mel_nod\u001b[0m\u001b[1;33m,\u001b[0m\u001b[0mCoord_nod\u001b[0m\u001b[1;33m,\u001b[0m\u001b[0mD\u001b[0m\u001b[1;33m,\u001b[0m\u001b[0meff\u001b[0m\u001b[1;33m,\u001b[0m\u001b[0mlim\u001b[0m\u001b[1;33m)\u001b[0m\u001b[1;33m\u001b[0m\u001b[1;33m\u001b[0m\u001b[0m\n\u001b[0;32m     38\u001b[0m         \u001b[0mUi\u001b[0m \u001b[1;33m=\u001b[0m \u001b[0mnp\u001b[0m\u001b[1;33m.\u001b[0m\u001b[0mzeros\u001b[0m\u001b[1;33m(\u001b[0m\u001b[1;33m(\u001b[0m\u001b[1;36m6\u001b[0m\u001b[1;33m)\u001b[0m\u001b[1;33m)\u001b[0m\u001b[1;33m\u001b[0m\u001b[1;33m\u001b[0m\u001b[0m\n\u001b[1;32m---> 39\u001b[1;33m         \u001b[0mUi\u001b[0m\u001b[1;33m[\u001b[0m\u001b[1;36m0\u001b[0m\u001b[1;33m]\u001b[0m \u001b[1;33m=\u001b[0m \u001b[0mU\u001b[0m\u001b[1;33m[\u001b[0m\u001b[1;36m0\u001b[0m\u001b[1;33m,\u001b[0m\u001b[0mel_nod\u001b[0m\u001b[1;33m[\u001b[0m\u001b[0mi\u001b[0m\u001b[1;33m,\u001b[0m\u001b[1;36m0\u001b[0m\u001b[1;33m]\u001b[0m\u001b[1;33m*\u001b[0m\u001b[1;36m2\u001b[0m\u001b[1;33m]\u001b[0m\u001b[1;33m\u001b[0m\u001b[1;33m\u001b[0m\u001b[0m\n\u001b[0m\u001b[0;32m     40\u001b[0m         \u001b[0mUi\u001b[0m\u001b[1;33m[\u001b[0m\u001b[1;36m1\u001b[0m\u001b[1;33m]\u001b[0m \u001b[1;33m=\u001b[0m \u001b[0mU\u001b[0m\u001b[1;33m[\u001b[0m\u001b[0mel_nod\u001b[0m\u001b[1;33m[\u001b[0m\u001b[0mi\u001b[0m\u001b[1;33m,\u001b[0m\u001b[1;36m0\u001b[0m\u001b[1;33m]\u001b[0m\u001b[1;33m*\u001b[0m\u001b[1;36m2\u001b[0m\u001b[1;33m+\u001b[0m\u001b[1;36m1\u001b[0m\u001b[1;33m]\u001b[0m\u001b[1;33m\u001b[0m\u001b[1;33m\u001b[0m\u001b[0m\n\u001b[0;32m     41\u001b[0m         \u001b[0mUi\u001b[0m\u001b[1;33m[\u001b[0m\u001b[1;36m2\u001b[0m\u001b[1;33m]\u001b[0m \u001b[1;33m=\u001b[0m \u001b[0mU\u001b[0m\u001b[1;33m[\u001b[0m\u001b[0mel_nod\u001b[0m\u001b[1;33m[\u001b[0m\u001b[0mi\u001b[0m\u001b[1;33m,\u001b[0m\u001b[1;36m1\u001b[0m\u001b[1;33m]\u001b[0m\u001b[1;33m*\u001b[0m\u001b[1;36m2\u001b[0m\u001b[1;33m]\u001b[0m\u001b[1;33m\u001b[0m\u001b[1;33m\u001b[0m\u001b[0m\n",
      "\u001b[1;31mIndexError\u001b[0m: index 102 is out of bounds for axis 1 with size 1"
     ]
    }
   ],
   "source": [
    "newU = FEM1(el_nod1,Coord_nod1,D,eff,Num_nod1,Num_el1,new_lim1)\n"
   ]
  },
  {
   "cell_type": "code",
   "execution_count": 47,
   "metadata": {},
   "outputs": [
    {
     "ename": "NameError",
     "evalue": "name 'newU' is not defined",
     "output_type": "error",
     "traceback": [
      "\u001b[1;31m---------------------------------------------------------------------------\u001b[0m",
      "\u001b[1;31mNameError\u001b[0m                                 Traceback (most recent call last)",
      "\u001b[1;32m<ipython-input-47-def448d44d78>\u001b[0m in \u001b[0;36m<module>\u001b[1;34m\u001b[0m\n\u001b[0;32m      1\u001b[0m \u001b[1;32mfor\u001b[0m \u001b[0mi\u001b[0m \u001b[1;32min\u001b[0m \u001b[0mrange\u001b[0m\u001b[1;33m(\u001b[0m\u001b[1;36m40\u001b[0m\u001b[1;33m)\u001b[0m\u001b[1;33m:\u001b[0m\u001b[1;33m\u001b[0m\u001b[1;33m\u001b[0m\u001b[0m\n\u001b[1;32m----> 2\u001b[1;33m     \u001b[0mfinalU\u001b[0m\u001b[1;33m[\u001b[0m\u001b[0mi\u001b[0m\u001b[1;33m]\u001b[0m\u001b[1;33m=\u001b[0m\u001b[0mnewU\u001b[0m\u001b[1;33m[\u001b[0m\u001b[0mi\u001b[0m\u001b[1;33m]\u001b[0m\u001b[1;33m+\u001b[0m\u001b[0mfinalU\u001b[0m\u001b[1;33m[\u001b[0m\u001b[0mi\u001b[0m\u001b[1;33m]\u001b[0m\u001b[1;33m\u001b[0m\u001b[1;33m\u001b[0m\u001b[0m\n\u001b[0m",
      "\u001b[1;31mNameError\u001b[0m: name 'newU' is not defined"
     ]
    }
   ],
   "source": [
    "\n",
    "for i in range(40):\n",
    "    finalU[i]=newU[i]+finalU[i]"
   ]
  },
  {
   "cell_type": "code",
   "execution_count": 52,
   "metadata": {},
   "outputs": [
    {
     "name": "stdout",
     "output_type": "stream",
     "text": [
      "1.2834396327086984e+16\n"
     ]
    },
    {
     "data": {
      "text/plain": [
       "(-0.55, 0.55, -0.025, 0.525)"
      ]
     },
     "execution_count": 52,
     "metadata": {},
     "output_type": "execute_result"
    },
    {
     "data": {
      "image/png": "[encoded data removed]",
      "text/plain": [
       "<Figure size 432x288 with 1 Axes>"
      ]
     },
     "metadata": {
      "needs_background": "light"
     },
     "output_type": "display_data"
    }
   ],
   "source": [
    "max_sig = 0\n",
    "max_sig_i = -1\n",
    "m_s=0\n",
    "m_s_i=-1\n",
    "\n",
    "for i in range(Num_el):\n",
    "    B = make_B(i,el_nod,Coord_nod,D,eff,lim)\n",
    "    Ui = np.zeros((6))\n",
    "    Ui[0] = finalU[el_nod[i,0]*2]\n",
    "    Ui[1] = finalU[el_nod[i,0]*2+1]\n",
    "    Ui[2] = finalU[el_nod[i,1]*2]\n",
    "    Ui[3] = finalU[el_nod[i,1]*2+1]  \n",
    "    Ui[4] = finalU[el_nod[i,2]*2]\n",
    "    Ui[5] = finalU[el_nod[i,2]*2+1] \n",
    "        #деформации (эпсилон)    \n",
    "    Eps = B.dot(Ui)\n",
    "    \n",
    "        # напряжения(сигма)\n",
    "    Nap = D.dot(Eps) \n",
    "     \n",
    "    NapM = np.matrix([[Nap[0],Nap[2]],[Nap[2],Nap[1]]])\n",
    "        \n",
    "    Sig,s = np.linalg.eig(NapM) \n",
    "        \n",
    "    now_sig = m.sqrt(Nap[0]**2-Nap[0]*Nap[1]+Nap[1]**2+3*Nap[2]**2)\n",
    "    if now_sig > max_sig: #and now_sig < 10**10:\n",
    "        max_sig = now_sig\n",
    "        max_sig_i = i\n",
    "        \n",
    "        #now_sig = max(abs(Sig))\n",
    "        #if n_s > m_s:\n",
    "         #   m_s = n_s\n",
    "          #  m_s_i = i\n",
    "        #print('Модуль максимального главного напряжения ',max(abs(Sig)))\n",
    "        #print('Деформации в ',i,' элементе',Eps)\n",
    "        #print('Напряжения в ',i,' элементе',Nap)\n",
    "print(max_sig)\n",
    "a = Coord_nod[el_nod[max_sig_i,0],:]\n",
    "b = Coord_nod[el_nod[max_sig_i,1],:]\n",
    "c = Coord_nod[el_nod[max_sig_i,2],:]\n",
    "for i in range(len(Coord_nod)):\n",
    "\n",
    "    if Coord_nod[i,1]>=0: plt.plot(Coord_nod[i,0],Coord_nod[i,1],'b.')\n",
    "plt.grid()\n",
    "plt.xlabel('x')\n",
    "plt.ylabel('y')\n",
    "\n",
    "plt.plot(b[0,0],b[0,1],'r.')\n",
    "plt.plot(a[0,0],a[0,1],'r.')\n",
    "plt.plot(c[0,0],c[0,1],'r.')\n",
    "plt.axis('equal')"
   ]
  },
  {
   "cell_type": "code",
   "execution_count": 155,
   "metadata": {},
   "outputs": [
    {
     "name": "stdout",
     "output_type": "stream",
     "text": [
      "28.951272710388775\n"
     ]
    },
    {
     "data": {
      "text/plain": [
       "[<matplotlib.lines.Line2D at 0x21eed0d4610>]"
      ]
     },
     "execution_count": 155,
     "metadata": {},
     "output_type": "execute_result"
    },
    {
     "data": {
      "image/png": "[encoded data removed]",
      "text/plain": [
       "<Figure size 432x288 with 1 Axes>"
      ]
     },
     "metadata": {
      "needs_background": "light"
     },
     "output_type": "display_data"
    }
   ],
   "source": [
    "max_sig = -100\n",
    "for i in range(len(oldnap)):\n",
    "    NapM = np.matrix([[oldnap[i,0],oldnap[i,2]],[oldnap[i,2],oldnap[i,1]]])\n",
    "    Sig,s = np.linalg.eig(NapM) \n",
    "        \n",
    "    now_sig = m.sqrt(oldnap[i,0]**2-oldnap[i,0]*oldnap[i,1]+oldnap[i,1]**2+3*oldnap[i,2]**2)\n",
    "    if now_sig > max_sig:\n",
    "        max_sig = now_sig\n",
    "        max_sig_i = i\n",
    "print(max_sig)\n",
    "a = Coord_nod[el_nod[max_sig_i,0],:]\n",
    "b = Coord_nod[el_nod[max_sig_i,1],:]\n",
    "c = Coord_nod[el_nod[max_sig_i,2],:]\n",
    "\n",
    "for i in range(len(Coord_nod)):\n",
    "\n",
    "    if Coord_nod[i,1]>=0: plt.plot(Coord_nod[i,0],Coord_nod[i,1],'b.')\n",
    "plt.grid()\n",
    "plt.xlabel('x')\n",
    "plt.ylabel('y')\n",
    "plt.plot(b[0,0],b[0,1],'r.')\n",
    "plt.plot(a[0,0],a[0,1],'r.')\n",
    "plt.plot(c[0,0],c[0,1],'r.')"
   ]
  },
  {
   "cell_type": "code",
   "execution_count": 110,
   "metadata": {},
   "outputs": [
    {
     "data": {
      "text/plain": [
       "array([[1.],\n",
       "       [1.],\n",
       "       [1.]])"
      ]
     },
     "execution_count": 110,
     "metadata": {},
     "output_type": "execute_result"
    }
   ],
   "source": [
    "A = np.ones((3,3))\n",
    "b = np.array([[1,0,0]]).T\n",
    "d(A,b)"
   ]
  },
  {
   "cell_type": "code",
   "execution_count": 88,
   "metadata": {},
   "outputs": [
    {
     "data": {
      "text/plain": [
       "0.9504454578443523"
      ]
     },
     "execution_count": 88,
     "metadata": {},
     "output_type": "execute_result"
    }
   ],
   "source": [
    "31.0367574795/32.654959022996\n"
   ]
  },
  {
   "cell_type": "code",
   "execution_count": 68,
   "metadata": {},
   "outputs": [
    {
     "data": {
      "text/plain": [
       "1.6182015434962018"
      ]
     },
     "execution_count": 68,
     "metadata": {},
     "output_type": "execute_result"
    }
   ],
   "source": [
    "32.6549590229962-31.0367574795\n"
   ]
  },
  {
   "cell_type": "code",
   "execution_count": null,
   "metadata": {},
   "outputs": [],
   "source": []
  }
 ],
 "metadata": {
  "kernelspec": {
   "display_name": "Python 3",
   "language": "python",
   "name": "python3"
  },
  "language_info": {
   "codemirror_mode": {
    "name": "ipython",
    "version": 3
   },
   "file_extension": ".py",
   "mimetype": "text/x-python",
   "name": "python",
   "nbconvert_exporter": "python",
   "pygments_lexer": "ipython3",
   "version": "3.8.3"
  }
 },
 "nbformat": 4,
 "nbformat_minor": 4
}
